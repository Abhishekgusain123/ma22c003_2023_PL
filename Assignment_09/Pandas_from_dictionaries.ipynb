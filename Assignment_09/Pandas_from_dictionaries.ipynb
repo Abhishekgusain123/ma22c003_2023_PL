{
  "nbformat": 4,
  "nbformat_minor": 0,
  "metadata": {
    "colab": {
      "provenance": []
    },
    "kernelspec": {
      "name": "python3",
      "display_name": "Python 3"
    },
    "language_info": {
      "name": "python"
    }
  },
  "cells": [
    {
      "cell_type": "markdown",
      "source": [
        "Task-1:Convert d0 to a corresponding pandas object pd0."
      ],
      "metadata": {
        "id": "f3wi0bhyetaL"
      }
    },
    {
      "cell_type": "code",
      "source": [
        "import pandas as pd\n",
        "\n",
        "# Your dictionary\n",
        "d0 = {2: 'a', 1: 'b', 3: 'c'}\n",
        "\n",
        "# Convert the dictionary to a Pandas Series\n",
        "pd0 = pd.Series(d0)\n",
        "\n",
        "print(pd0)"
      ],
      "metadata": {
        "colab": {
          "base_uri": "https://localhost:8080/"
        },
        "id": "fyVMSc-GhvEe",
        "outputId": "7f376ff7-db41-41e7-a00e-bdd258f09679"
      },
      "execution_count": null,
      "outputs": [
        {
          "output_type": "stream",
          "name": "stdout",
          "text": [
            "2    a\n",
            "1    b\n",
            "3    c\n",
            "dtype: object\n"
          ]
        }
      ]
    },
    {
      "cell_type": "markdown",
      "source": [
        "Task-2:Sort indices of pd0.\n",
        "(Note: Newer versions of pandas do not sort dictionary keys.)"
      ],
      "metadata": {
        "id": "ZWIV3oDIe4Wv"
      }
    },
    {
      "cell_type": "code",
      "source": [
        "# Sort the indices of pd0\n",
        "pd0 = pd0.reindex(sorted(pd0.index))\n",
        "\n",
        "print(pd0)"
      ],
      "metadata": {
        "colab": {
          "base_uri": "https://localhost:8080/"
        },
        "id": "jykV3f6HfKHt",
        "outputId": "ef4a136f-258b-484e-a025-40a30f1bcbb7"
      },
      "execution_count": null,
      "outputs": [
        {
          "output_type": "stream",
          "name": "stdout",
          "text": [
            "1    b\n",
            "2    a\n",
            "3    c\n",
            "dtype: object\n"
          ]
        }
      ]
    },
    {
      "cell_type": "markdown",
      "source": [
        "Convert d1, d2 (together) to a pandas object dd.\n",
        "d1 = {'a': 1, 'b': 2}\n",
        "d2 = {'b': 3, 'c': 4}"
      ],
      "metadata": {
        "id": "Q82rhBadgqoU"
      }
    },
    {
      "cell_type": "code",
      "source": [
        "\n",
        "# dictionaries\n",
        "d1 = {'a': 1, 'b': 2}\n",
        "d2 = {'b': 3, 'c': 4}\n",
        "\n",
        "# Convert d1 and d2 to a Pandas DataFrame\n",
        "dd = pd.DataFrame([d1, d2])\n",
        "\n",
        "print(dd)"
      ],
      "metadata": {
        "colab": {
          "base_uri": "https://localhost:8080/"
        },
        "id": "GVnrHz7jgPyr",
        "outputId": "0a01f761-c8ed-4505-8189-1ba4d5d2ec08"
      },
      "execution_count": null,
      "outputs": [
        {
          "output_type": "stream",
          "name": "stdout",
          "text": [
            "     a  b    c\n",
            "0  1.0  2  NaN\n",
            "1  NaN  3  4.0\n"
          ]
        }
      ]
    },
    {
      "cell_type": "markdown",
      "source": [
        "Task-4:Give examples of indexing and slicing on dd.\n",
        "In pandas, indexing refers to accessing columns by their names, in a syntax reminiscent of\n",
        "dictionary access by keys, while slicing refers to row access like in numpy."
      ],
      "metadata": {
        "id": "uUsnjp3qjmbN"
      }
    },
    {
      "cell_type": "code",
      "source": [
        "#Indexing by column\n",
        "# Using square brackets\n",
        "column_a = dd['a']  # Access the 'a' column\n",
        "print(column_a)\n",
        "\n",
        "# Using dot notation\n",
        "column_b = dd.b  # Access the 'b' column\n",
        "print(column_b)"
      ],
      "metadata": {
        "colab": {
          "base_uri": "https://localhost:8080/"
        },
        "id": "tPfCQFiTjvel",
        "outputId": "5feae3b9-86cb-46cd-d9b7-7f8b4c0bef7a"
      },
      "execution_count": null,
      "outputs": [
        {
          "output_type": "stream",
          "name": "stdout",
          "text": [
            "0    1.0\n",
            "1    NaN\n",
            "Name: a, dtype: float64\n",
            "0    2\n",
            "1    3\n",
            "Name: b, dtype: int64\n"
          ]
        }
      ]
    },
    {
      "cell_type": "code",
      "source": [
        "#Slicing rows\n",
        "sliced_rows = dd[1:3]  # Access rows 1 to 2\n",
        "print(sliced_rows)"
      ],
      "metadata": {
        "colab": {
          "base_uri": "https://localhost:8080/"
        },
        "id": "vYL2hXi0kw0n",
        "outputId": "244e82f2-9a4f-44d3-dd5b-9f405bfacdfa"
      },
      "execution_count": null,
      "outputs": [
        {
          "output_type": "stream",
          "name": "stdout",
          "text": [
            "    a  b    c\n",
            "1 NaN  3  4.0\n"
          ]
        }
      ]
    },
    {
      "cell_type": "markdown",
      "source": [
        "Task-5:Give examples of implicit and explicit indexing on dd."
      ],
      "metadata": {
        "id": "yzAa8sUrlVmY"
      }
    },
    {
      "cell_type": "code",
      "source": [
        "#Implicit indexing by integer based\n",
        "# Access the second row\n",
        "implicit_row = dd.iloc[1]\n",
        "print(\"Implicit Row (Index 1):\\n\", implicit_row)\n",
        "\n",
        "# Access the first column\n",
        "implicit_column = dd.iloc[:, 0]\n",
        "print(\"\\nImplicit Column (Column 0):\\n\", implicit_column)"
      ],
      "metadata": {
        "colab": {
          "base_uri": "https://localhost:8080/"
        },
        "id": "ueg2G4JFm-it",
        "outputId": "8aa4b697-7300-472f-836a-91cd65984b71"
      },
      "execution_count": null,
      "outputs": [
        {
          "output_type": "stream",
          "name": "stdout",
          "text": [
            "Implicit Row (Index 1):\n",
            " a    NaN\n",
            "b    3.0\n",
            "c    4.0\n",
            "Name: 1, dtype: float64\n",
            "\n",
            "Implicit Column (Column 0):\n",
            " 0    1.0\n",
            "1    NaN\n",
            "Name: a, dtype: float64\n"
          ]
        }
      ]
    },
    {
      "cell_type": "code",
      "source": [
        "#Explicit indexing by label-based\n",
        "# Access the row with index 1\n",
        "explicit_row = dd.loc[1]\n",
        "print(\"Explicit Row (Index 1):\\n\", explicit_row)\n",
        "\n",
        "# Access the column with label 'a'\n",
        "explicit_column = dd['a']\n",
        "print(\"\\nExplicit Column (Column 'a'):\\n\", explicit_column)"
      ],
      "metadata": {
        "colab": {
          "base_uri": "https://localhost:8080/"
        },
        "id": "YGb8Rbp2nWsW",
        "outputId": "804886ca-8082-4573-8c4e-059715a55475"
      },
      "execution_count": null,
      "outputs": [
        {
          "output_type": "stream",
          "name": "stdout",
          "text": [
            "Explicit Row (Index 1):\n",
            " a    NaN\n",
            "b    3.0\n",
            "c    4.0\n",
            "Name: 1, dtype: float64\n",
            "\n",
            "Explicit Column (Column 'a'):\n",
            " 0    1.0\n",
            "1    NaN\n",
            "Name: a, dtype: float64\n"
          ]
        }
      ]
    },
    {
      "cell_type": "markdown",
      "source": [
        "Task-6: Forward fill and backfill missing values using various axis."
      ],
      "metadata": {
        "id": "ISQ0_XV4oZ2c"
      }
    },
    {
      "cell_type": "code",
      "source": [
        "import pandas as pd\n",
        "import numpy as np\n",
        "\n",
        "# Create a sample DataFrame with missing values\n",
        "data = {'A': [1, 2, np.nan, 4, 5],\n",
        "        'B': [np.nan, 2, 3, 4, np.nan],\n",
        "        'C': [1, np.nan, np.nan, 4, 5]}\n",
        "\n",
        "df = pd.DataFrame(data)\n",
        "\n",
        "# Forward fill missing values along rows (axis=0)\n",
        "forward_filled_rows = df.fillna(method='ffill', axis=0)\n",
        "\n",
        "# Backfill missing values along columns (axis=1)\n",
        "back_filled_columns = df.fillna(method='bfill', axis=1)\n",
        "\n",
        "print(\"Forward Filled Missing Values (Rows):\\n\", forward_filled_rows)\n",
        "print(\"\\nBack Filled Missing Values (Columns):\\n\", back_filled_columns)"
      ],
      "metadata": {
        "colab": {
          "base_uri": "https://localhost:8080/"
        },
        "id": "aFjuVAX_ozvj",
        "outputId": "b5064927-b3dd-41b5-b519-b2faa2cb3160"
      },
      "execution_count": null,
      "outputs": [
        {
          "output_type": "stream",
          "name": "stdout",
          "text": [
            "Forward Filled Missing Values (Rows):\n",
            "      A    B    C\n",
            "0  1.0  NaN  1.0\n",
            "1  2.0  2.0  1.0\n",
            "2  2.0  3.0  1.0\n",
            "3  4.0  4.0  4.0\n",
            "4  5.0  4.0  5.0\n",
            "\n",
            "Back Filled Missing Values (Columns):\n",
            "      A    B    C\n",
            "0  1.0  1.0  1.0\n",
            "1  2.0  2.0  NaN\n",
            "2  3.0  3.0  NaN\n",
            "3  4.0  4.0  4.0\n",
            "4  5.0  5.0  5.0\n"
          ]
        }
      ]
    }
  ]
}