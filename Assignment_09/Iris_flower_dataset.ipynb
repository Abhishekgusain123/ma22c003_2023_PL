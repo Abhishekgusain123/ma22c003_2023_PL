{
  "nbformat": 4,
  "nbformat_minor": 0,
  "metadata": {
    "colab": {
      "provenance": []
    },
    "kernelspec": {
      "name": "python3",
      "display_name": "Python 3"
    },
    "language_info": {
      "name": "python"
    }
  },
  "cells": [
    {
      "cell_type": "code",
      "source": [
        "import pandas as pd\n",
        "%matplotlib inline\n",
        "import seaborn; seaborn.set()\n",
        "iris = seaborn.load_dataset('iris')"
      ],
      "metadata": {
        "id": "9t69NT2cufJ1"
      },
      "execution_count": null,
      "outputs": []
    },
    {
      "cell_type": "markdown",
      "source": [
        "Task 1: Make a bar plot of the mean sepal sizes for each species"
      ],
      "metadata": {
        "id": "S16Zny5nr60r"
      }
    },
    {
      "cell_type": "code",
      "source": [
        "\n",
        "import seaborn as sns\n",
        "import matplotlib.pyplot as plt\n",
        "import numpy as np\n",
        "\n",
        "iris = sns.load_dataset('iris')\n",
        "sns.barplot(x='species', y='sepal_length', data=iris, estimator=np.mean)\n",
        "plt.show()"
      ],
      "metadata": {
        "colab": {
          "base_uri": "https://localhost:8080/",
          "height": 230
        },
        "id": "fyY1AdwPvDL8",
        "outputId": "a8667000-7735-48b5-d5c0-0f492b10d98c"
      },
      "execution_count": null,
      "outputs": [
        {
          "output_type": "display_data",
          "data": {
            "text/plain": [
              "<Figure size 640x480 with 1 Axes>"
            ],
            "image/png": "[encoded data removed]"
          },
          "metadata": {}
        }
      ]
    },
    {
      "cell_type": "markdown",
      "source": [
        "Task-2:Find the min, max and mean of petal sizes for each species"
      ],
      "metadata": {
        "id": "VkkZYwiZv2sZ"
      }
    },
    {
      "cell_type": "code",
      "source": [
        "import pandas as pd\n",
        "import seaborn as sns\n",
        "\n",
        "iris = sns.load_dataset('iris')\n",
        "result = iris.groupby('species')['petal_length'].agg([min, max, 'mean'])\n",
        "print(result)"
      ],
      "metadata": {
        "colab": {
          "base_uri": "https://localhost:8080/"
        },
        "id": "8Em_kKzZwxdh",
        "outputId": "03cae5e9-0563-485f-a9f7-7297f076bb26"
      },
      "execution_count": null,
      "outputs": [
        {
          "output_type": "stream",
          "name": "stdout",
          "text": [
            "            min  max   mean\n",
            "species                    \n",
            "setosa      1.0  1.9  1.462\n",
            "versicolor  3.0  5.1  4.260\n",
            "virginica   4.5  6.9  5.552\n"
          ]
        }
      ]
    }
  ]
}