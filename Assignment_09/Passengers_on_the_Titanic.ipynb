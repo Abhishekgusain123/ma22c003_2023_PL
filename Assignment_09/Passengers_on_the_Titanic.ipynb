{
  "nbformat": 4,
  "nbformat_minor": 0,
  "metadata": {
    "colab": {
      "provenance": []
    },
    "kernelspec": {
      "name": "python3",
      "display_name": "Python 3"
    },
    "language_info": {
      "name": "python"
    }
  },
  "cells": [
    {
      "cell_type": "code",
      "execution_count": null,
      "metadata": {
        "id": "CUlHRajMKftD"
      },
      "outputs": [],
      "source": [
        "import numpy as np\n",
        "import pandas as pd\n",
        "import seaborn"
      ]
    },
    {
      "cell_type": "code",
      "source": [
        "\n",
        "t = seaborn.load_dataset('titanic')\n",
        "t.head()"
      ],
      "metadata": {
        "colab": {
          "base_uri": "https://localhost:8080/",
          "height": 226
        },
        "id": "Qzq-ctORMMKq",
        "outputId": "0a33775f-6106-4abf-ad65-e20385b6d047"
      },
      "execution_count": null,
      "outputs": [
        {
          "output_type": "execute_result",
          "data": {
            "text/plain": [
              "   survived  pclass     sex   age  sibsp  parch     fare embarked  class  \\\n",
              "0         0       3    male  22.0      1      0   7.2500        S  Third   \n",
              "1         1       1  female  38.0      1      0  71.2833        C  First   \n",
              "2         1       3  female  26.0      0      0   7.9250        S  Third   \n",
              "3         1       1  female  35.0      1      0  53.1000        S  First   \n",
              "4         0       3    male  35.0      0      0   8.0500        S  Third   \n",
              "\n",
              "     who  adult_male deck  embark_town alive  alone  \n",
              "0    man        True  NaN  Southampton    no  False  \n",
              "1  woman       False    C    Cherbourg   yes  False  \n",
              "2  woman       False  NaN  Southampton   yes   True  \n",
              "3  woman       False    C  Southampton   yes  False  \n",
              "4    man        True  NaN  Southampton    no   True  "
            ],
            "text/html": [
              "\n",
              "  <div id=\"df-0d2ca15b-b60d-4432-a4bf-8600c02d43d9\" class=\"colab-df-container\">\n",
              "    <div>\n",
              "<style scoped>\n",
              "    .dataframe tbody tr th:only-of-type {\n",
              "        vertical-align: middle;\n",
              "    }\n",
              "\n",
              "    .dataframe tbody tr th {\n",
              "        vertical-align: top;\n",
              "    }\n",
              "\n",
              "    .dataframe thead th {\n",
              "        text-align: right;\n",
              "    }\n",
              "</style>\n",
              "<table border=\"1\" class=\"dataframe\">\n",
              "  <thead>\n",
              "    <tr style=\"text-align: right;\">\n",
              "      <th></th>\n",
              "      <th>survived</th>\n",
              "      <th>pclass</th>\n",
              "      <th>sex</th>\n",
              "      <th>age</th>\n",
              "      <th>sibsp</th>\n",
              "      <th>parch</th>\n",
              "      <th>fare</th>\n",
              "      <th>embarked</th>\n",
              "      <th>class</th>\n",
              "      <th>who</th>\n",
              "      <th>adult_male</th>\n",
              "      <th>deck</th>\n",
              "      <th>embark_town</th>\n",
              "      <th>alive</th>\n",
              "      <th>alone</th>\n",
              "    </tr>\n",
              "  </thead>\n",
              "  <tbody>\n",
              "    <tr>\n",
              "      <th>0</th>\n",
              "      <td>0</td>\n",
              "      <td>3</td>\n",
              "      <td>male</td>\n",
              "      <td>22.0</td>\n",
              "      <td>1</td>\n",
              "      <td>0</td>\n",
              "      <td>7.2500</td>\n",
              "      <td>S</td>\n",
              "      <td>Third</td>\n",
              "      <td>man</td>\n",
              "      <td>True</td>\n",
              "      <td>NaN</td>\n",
              "      <td>Southampton</td>\n",
              "      <td>no</td>\n",
              "      <td>False</td>\n",
              "    </tr>\n",
              "    <tr>\n",
              "      <th>1</th>\n",
              "      <td>1</td>\n",
              "      <td>1</td>\n",
              "      <td>female</td>\n",
              "      <td>38.0</td>\n",
              "      <td>1</td>\n",
              "      <td>0</td>\n",
              "      <td>71.2833</td>\n",
              "      <td>C</td>\n",
              "      <td>First</td>\n",
              "      <td>woman</td>\n",
              "      <td>False</td>\n",
              "      <td>C</td>\n",
              "      <td>Cherbourg</td>\n",
              "      <td>yes</td>\n",
              "      <td>False</td>\n",
              "    </tr>\n",
              "    <tr>\n",
              "      <th>2</th>\n",
              "      <td>1</td>\n",
              "      <td>3</td>\n",
              "      <td>female</td>\n",
              "      <td>26.0</td>\n",
              "      <td>0</td>\n",
              "      <td>0</td>\n",
              "      <td>7.9250</td>\n",
              "      <td>S</td>\n",
              "      <td>Third</td>\n",
              "      <td>woman</td>\n",
              "      <td>False</td>\n",
              "      <td>NaN</td>\n",
              "      <td>Southampton</td>\n",
              "      <td>yes</td>\n",
              "      <td>True</td>\n",
              "    </tr>\n",
              "    <tr>\n",
              "      <th>3</th>\n",
              "      <td>1</td>\n",
              "      <td>1</td>\n",
              "      <td>female</td>\n",
              "      <td>35.0</td>\n",
              "      <td>1</td>\n",
              "      <td>0</td>\n",
              "      <td>53.1000</td>\n",
              "      <td>S</td>\n",
              "      <td>First</td>\n",
              "      <td>woman</td>\n",
              "      <td>False</td>\n",
              "      <td>C</td>\n",
              "      <td>Southampton</td>\n",
              "      <td>yes</td>\n",
              "      <td>False</td>\n",
              "    </tr>\n",
              "    <tr>\n",
              "      <th>4</th>\n",
              "      <td>0</td>\n",
              "      <td>3</td>\n",
              "      <td>male</td>\n",
              "      <td>35.0</td>\n",
              "      <td>0</td>\n",
              "      <td>0</td>\n",
              "      <td>8.0500</td>\n",
              "      <td>S</td>\n",
              "      <td>Third</td>\n",
              "      <td>man</td>\n",
              "      <td>True</td>\n",
              "      <td>NaN</td>\n",
              "      <td>Southampton</td>\n",
              "      <td>no</td>\n",
              "      <td>True</td>\n",
              "    </tr>\n",
              "  </tbody>\n",
              "</table>\n",
              "</div>\n",
              "    <div class=\"colab-df-buttons\">\n",
              "\n",
              "  <div class=\"colab-df-container\">\n",
              "    <button class=\"colab-df-convert\" onclick=\"convertToInteractive('df-0d2ca15b-b60d-4432-a4bf-8600c02d43d9')\"\n",
              "            title=\"Convert this dataframe to an interactive table.\"\n",
              "            style=\"display:none;\">\n",
              "\n",
              "  <svg xmlns=\"http://www.w3.org/2000/svg\" height=\"24px\" viewBox=\"0 -960 960 960\">\n",
              "    <path d=\"M120-120v-720h720v720H120Zm60-500h600v-160H180v160Zm220 220h160v-160H400v160Zm0 220h160v-160H400v160ZM180-400h160v-160H180v160Zm440 0h160v-160H620v160ZM180-180h160v-160H180v160Zm440 0h160v-160H620v160Z\"/>\n",
              "  </svg>\n",
              "    </button>\n",
              "\n",
              "  <style>\n",
              "    .colab-df-container {\n",
              "      display:flex;\n",
              "      gap: 12px;\n",
              "    }\n",
              "\n",
              "    .colab-df-convert {\n",
              "      background-color: #E8F0FE;\n",
              "      border: none;\n",
              "      border-radius: 50%;\n",
              "      cursor: pointer;\n",
              "      display: none;\n",
              "      fill: #1967D2;\n",
              "      height: 32px;\n",
              "      padding: 0 0 0 0;\n",
              "      width: 32px;\n",
              "    }\n",
              "\n",
              "    .colab-df-convert:hover {\n",
              "      background-color: #E2EBFA;\n",
              "      box-shadow: 0px 1px 2px rgba(60, 64, 67, 0.3), 0px 1px 3px 1px rgba(60, 64, 67, 0.15);\n",
              "      fill: #174EA6;\n",
              "    }\n",
              "\n",
              "    .colab-df-buttons div {\n",
              "      margin-bottom: 4px;\n",
              "    }\n",
              "\n",
              "    [theme=dark] .colab-df-convert {\n",
              "      background-color: #3B4455;\n",
              "      fill: #D2E3FC;\n",
              "    }\n",
              "\n",
              "    [theme=dark] .colab-df-convert:hover {\n",
              "      background-color: #434B5C;\n",
              "      box-shadow: 0px 1px 3px 1px rgba(0, 0, 0, 0.15);\n",
              "      filter: drop-shadow(0px 1px 2px rgba(0, 0, 0, 0.3));\n",
              "      fill: #FFFFFF;\n",
              "    }\n",
              "  </style>\n",
              "\n",
              "    <script>\n",
              "      const buttonEl =\n",
              "        document.querySelector('#df-0d2ca15b-b60d-4432-a4bf-8600c02d43d9 button.colab-df-convert');\n",
              "      buttonEl.style.display =\n",
              "        google.colab.kernel.accessAllowed ? 'block' : 'none';\n",
              "\n",
              "      async function convertToInteractive(key) {\n",
              "        const element = document.querySelector('#df-0d2ca15b-b60d-4432-a4bf-8600c02d43d9');\n",
              "        const dataTable =\n",
              "          await google.colab.kernel.invokeFunction('convertToInteractive',\n",
              "                                                    [key], {});\n",
              "        if (!dataTable) return;\n",
              "\n",
              "        const docLinkHtml = 'Like what you see? Visit the ' +\n",
              "          '<a target=\"_blank\" href=https://colab.research.google.com/notebooks/data_table.ipynb>data table notebook</a>'\n",
              "          + ' to learn more about interactive tables.';\n",
              "        element.innerHTML = '';\n",
              "        dataTable['output_type'] = 'display_data';\n",
              "        await google.colab.output.renderOutput(dataTable, element);\n",
              "        const docLink = document.createElement('div');\n",
              "        docLink.innerHTML = docLinkHtml;\n",
              "        element.appendChild(docLink);\n",
              "      }\n",
              "    </script>\n",
              "  </div>\n",
              "\n",
              "\n",
              "<div id=\"df-db92f296-bf55-40ec-ba64-a9ca5666fbbc\">\n",
              "  <button class=\"colab-df-quickchart\" onclick=\"quickchart('df-db92f296-bf55-40ec-ba64-a9ca5666fbbc')\"\n",
              "            title=\"Suggest charts.\"\n",
              "            style=\"display:none;\">\n",
              "\n",
              "<svg xmlns=\"http://www.w3.org/2000/svg\" height=\"24px\"viewBox=\"0 0 24 24\"\n",
              "     width=\"24px\">\n",
              "    <g>\n",
              "        <path d=\"M19 3H5c-1.1 0-2 .9-2 2v14c0 1.1.9 2 2 2h14c1.1 0 2-.9 2-2V5c0-1.1-.9-2-2-2zM9 17H7v-7h2v7zm4 0h-2V7h2v10zm4 0h-2v-4h2v4z\"/>\n",
              "    </g>\n",
              "</svg>\n",
              "  </button>\n",
              "\n",
              "<style>\n",
              "  .colab-df-quickchart {\n",
              "      --bg-color: #E8F0FE;\n",
              "      --fill-color: #1967D2;\n",
              "      --hover-bg-color: #E2EBFA;\n",
              "      --hover-fill-color: #174EA6;\n",
              "      --disabled-fill-color: #AAA;\n",
              "      --disabled-bg-color: #DDD;\n",
              "  }\n",
              "\n",
              "  [theme=dark] .colab-df-quickchart {\n",
              "      --bg-color: #3B4455;\n",
              "      --fill-color: #D2E3FC;\n",
              "      --hover-bg-color: #434B5C;\n",
              "      --hover-fill-color: #FFFFFF;\n",
              "      --disabled-bg-color: #3B4455;\n",
              "      --disabled-fill-color: #666;\n",
              "  }\n",
              "\n",
              "  .colab-df-quickchart {\n",
              "    background-color: var(--bg-color);\n",
              "    border: none;\n",
              "    border-radius: 50%;\n",
              "    cursor: pointer;\n",
              "    display: none;\n",
              "    fill: var(--fill-color);\n",
              "    height: 32px;\n",
              "    padding: 0;\n",
              "    width: 32px;\n",
              "  }\n",
              "\n",
              "  .colab-df-quickchart:hover {\n",
              "    background-color: var(--hover-bg-color);\n",
              "    box-shadow: 0 1px 2px rgba(60, 64, 67, 0.3), 0 1px 3px 1px rgba(60, 64, 67, 0.15);\n",
              "    fill: var(--button-hover-fill-color);\n",
              "  }\n",
              "\n",
              "  .colab-df-quickchart-complete:disabled,\n",
              "  .colab-df-quickchart-complete:disabled:hover {\n",
              "    background-color: var(--disabled-bg-color);\n",
              "    fill: var(--disabled-fill-color);\n",
              "    box-shadow: none;\n",
              "  }\n",
              "\n",
              "  .colab-df-spinner {\n",
              "    border: 2px solid var(--fill-color);\n",
              "    border-color: transparent;\n",
              "    border-bottom-color: var(--fill-color);\n",
              "    animation:\n",
              "      spin 1s steps(1) infinite;\n",
              "  }\n",
              "\n",
              "  @keyframes spin {\n",
              "    0% {\n",
              "      border-color: transparent;\n",
              "      border-bottom-color: var(--fill-color);\n",
              "      border-left-color: var(--fill-color);\n",
              "    }\n",
              "    20% {\n",
              "      border-color: transparent;\n",
              "      border-left-color: var(--fill-color);\n",
              "      border-top-color: var(--fill-color);\n",
              "    }\n",
              "    30% {\n",
              "      border-color: transparent;\n",
              "      border-left-color: var(--fill-color);\n",
              "      border-top-color: var(--fill-color);\n",
              "      border-right-color: var(--fill-color);\n",
              "    }\n",
              "    40% {\n",
              "      border-color: transparent;\n",
              "      border-right-color: var(--fill-color);\n",
              "      border-top-color: var(--fill-color);\n",
              "    }\n",
              "    60% {\n",
              "      border-color: transparent;\n",
              "      border-right-color: var(--fill-color);\n",
              "    }\n",
              "    80% {\n",
              "      border-color: transparent;\n",
              "      border-right-color: var(--fill-color);\n",
              "      border-bottom-color: var(--fill-color);\n",
              "    }\n",
              "    90% {\n",
              "      border-color: transparent;\n",
              "      border-bottom-color: var(--fill-color);\n",
              "    }\n",
              "  }\n",
              "</style>\n",
              "\n",
              "  <script>\n",
              "    async function quickchart(key) {\n",
              "      const quickchartButtonEl =\n",
              "        document.querySelector('#' + key + ' button');\n",
              "      quickchartButtonEl.disabled = true;  // To prevent multiple clicks.\n",
              "      quickchartButtonEl.classList.add('colab-df-spinner');\n",
              "      try {\n",
              "        const charts = await google.colab.kernel.invokeFunction(\n",
              "            'suggestCharts', [key], {});\n",
              "      } catch (error) {\n",
              "        console.error('Error during call to suggestCharts:', error);\n",
              "      }\n",
              "      quickchartButtonEl.classList.remove('colab-df-spinner');\n",
              "      quickchartButtonEl.classList.add('colab-df-quickchart-complete');\n",
              "    }\n",
              "    (() => {\n",
              "      let quickchartButtonEl =\n",
              "        document.querySelector('#df-db92f296-bf55-40ec-ba64-a9ca5666fbbc button');\n",
              "      quickchartButtonEl.style.display =\n",
              "        google.colab.kernel.accessAllowed ? 'block' : 'none';\n",
              "    })();\n",
              "  </script>\n",
              "</div>\n",
              "    </div>\n",
              "  </div>\n"
            ]
          },
          "metadata": {},
          "execution_count": 56
        }
      ]
    },
    {
      "cell_type": "markdown",
      "source": [
        "• How many passengers are described in the data set?"
      ],
      "metadata": {
        "id": "VSAuunGWM3OI"
      }
    },
    {
      "cell_type": "code",
      "source": [
        "passenger_count = t.shape[0]\n",
        "print(\"The number of passengers described in the dataset is:\", passenger_count)"
      ],
      "metadata": {
        "colab": {
          "base_uri": "https://localhost:8080/"
        },
        "id": "L8m4pM5xM-4g",
        "outputId": "088ad9f8-51e1-40f9-e63e-d7732e65f40c"
      },
      "execution_count": null,
      "outputs": [
        {
          "output_type": "stream",
          "name": "stdout",
          "text": [
            "The number of passengers described in the dataset is: 891\n"
          ]
        }
      ]
    },
    {
      "cell_type": "markdown",
      "source": [
        "•How many distinct values are in who column?"
      ],
      "metadata": {
        "id": "be7WPchdOJaT"
      }
    },
    {
      "cell_type": "code",
      "source": [
        "distinct_values = t['who'].nunique() #who' column represent the types of passengers in titanic\n",
        "print(\"The number of distinct values in the 'who' column is:\", distinct_values)"
      ],
      "metadata": {
        "colab": {
          "base_uri": "https://localhost:8080/"
        },
        "id": "MtPGzq97PY_O",
        "outputId": "1d5d325f-3339-4447-cd2a-2663f265f1b3"
      },
      "execution_count": null,
      "outputs": [
        {
          "output_type": "stream",
          "name": "stdout",
          "text": [
            "The number of distinct values in the 'who' column is: 3\n"
          ]
        }
      ]
    },
    {
      "cell_type": "markdown",
      "source": [
        "• How many missing values do you find in each data column?"
      ],
      "metadata": {
        "id": "-qMjWFs1QnkL"
      }
    },
    {
      "cell_type": "code",
      "source": [
        "missing_values = t.isnull().sum()\n",
        "print(\"Number of missing values in each column:\")\n",
        "print(missing_values)"
      ],
      "metadata": {
        "colab": {
          "base_uri": "https://localhost:8080/"
        },
        "id": "R6QeWXXzQyuF",
        "outputId": "76d30938-a9e4-431a-8f35-269200f935f1"
      },
      "execution_count": null,
      "outputs": [
        {
          "output_type": "stream",
          "name": "stdout",
          "text": [
            "Number of missing values in each column:\n",
            "survived         0\n",
            "pclass           0\n",
            "sex              0\n",
            "age            177\n",
            "sibsp            0\n",
            "parch            0\n",
            "fare             0\n",
            "embarked         2\n",
            "class            0\n",
            "who              0\n",
            "adult_male       0\n",
            "deck           688\n",
            "embark_town      2\n",
            "alive            0\n",
            "alone            0\n",
            "dtype: int64\n"
          ]
        }
      ]
    },
    {
      "cell_type": "markdown",
      "source": [
        "•Does the data contain passengers over 60 old? How many?"
      ],
      "metadata": {
        "id": "Cq6pJUfORMuQ"
      }
    },
    {
      "cell_type": "code",
      "source": [
        "#identify passengers with an age greater than 60 and count\n",
        "passengers_over_60 = t[t['age'] > 60]\n",
        "number_of_passengers_over_60 = len(passengers_over_60)\n",
        "\n",
        "if number_of_passengers_over_60 > 0:\n",
        "    print(\"Yes, there are passengers over 60 years old in the dataset.\")\n",
        "    print(\"Number of passengers over 60 years old:\", number_of_passengers_over_60)\n",
        "else:\n",
        "    print(\"No passengers over 60 years old found in the dataset.\")"
      ],
      "metadata": {
        "colab": {
          "base_uri": "https://localhost:8080/"
        },
        "id": "djwWY9BHR4mm",
        "outputId": "f103c5a9-d0f4-430c-d09a-44b02e1122d5"
      },
      "execution_count": null,
      "outputs": [
        {
          "output_type": "stream",
          "name": "stdout",
          "text": [
            "Yes, there are passengers over 60 years old in the dataset.\n",
            "Number of passengers over 60 years old: 22\n"
          ]
        }
      ]
    },
    {
      "cell_type": "markdown",
      "source": [
        "\n",
        "• What is the passenger age distribution? (Plot it.)"
      ],
      "metadata": {
        "id": "5gjdaFkoTgGD"
      }
    },
    {
      "cell_type": "code",
      "source": [
        "import seaborn as sns\n",
        "import matplotlib.pyplot as plt\n",
        "\n",
        "# plot the passenger age distribution\n",
        "sns.histplot(data=t, x='age', bins=20)\n",
        "plt.xlabel('Age')\n",
        "plt.ylabel('Count')\n",
        "plt.title('Passenger Age Distribution')\n",
        "plt.show()"
      ],
      "metadata": {
        "colab": {
          "base_uri": "https://localhost:8080/",
          "height": 233
        },
        "id": "dl9IXQB2VcDu",
        "outputId": "2b9e8086-42a1-4e8e-9dbc-6e3d208c578c"
      },
      "execution_count": null,
      "outputs": [
        {
          "output_type": "display_data",
          "data": {
            "text/plain": [
              "<Figure size 640x480 with 1 Axes>"
            ],
            "image/png": "[encoded data removed]"
          },
          "metadata": {}
        }
      ]
    },
    {
      "cell_type": "markdown",
      "source": [
        "• What are the 3-quantiles of the passenger age distribution?\n",
        "\n",
        "(Finite samples are divided into q subsets of nearly equal sizes by q-quantiles. The 2-\n",
        "quantile is the median.)"
      ],
      "metadata": {
        "id": "zMr1Ul07WRAY"
      }
    },
    {
      "cell_type": "code",
      "source": [
        "\n",
        "#3-quantiles of the passenger age distribution.\n",
        "quantiles = t['age'].quantile([0.25, 0.5, 0.75])\n",
        "print(\"1st Quantile (25th percentile):\", quantiles[0.25])\n",
        "print(\"2nd Quantile (50th percentile - Median):\", quantiles[0.5])\n",
        "print(\"3rd Quantile (75th percentile):\", quantiles[0.75])"
      ],
      "metadata": {
        "colab": {
          "base_uri": "https://localhost:8080/"
        },
        "id": "WExVxOZwWmom",
        "outputId": "ca8cb227-4aa0-453e-ce65-6a8c917f0ab2"
      },
      "execution_count": null,
      "outputs": [
        {
          "output_type": "stream",
          "name": "stdout",
          "text": [
            "1st Quantile (25th percentile): 20.125\n",
            "2nd Quantile (50th percentile - Median): 28.0\n",
            "3rd Quantile (75th percentile): 38.0\n"
          ]
        }
      ]
    },
    {
      "cell_type": "markdown",
      "source": [
        "\n",
        "• How will you drop all passengers with no embarked data?"
      ],
      "metadata": {
        "id": "NJ_s4M0OX12-"
      }
    },
    {
      "cell_type": "code",
      "source": [
        "#To drop all passengers with no embarked data in the Titanic\n",
        "t = t.dropna(subset=['embarked'])"
      ],
      "metadata": {
        "id": "DzWjNnEdYKU3"
      },
      "execution_count": null,
      "outputs": []
    },
    {
      "cell_type": "markdown",
      "source": [
        "\n",
        "• What is the average, minimum, and maximum fares paid by the passengers?"
      ],
      "metadata": {
        "id": "H5numycCY0r4"
      }
    },
    {
      "cell_type": "code",
      "source": [
        "\n",
        "#calculate the average, minimum, and maximum fares paid\n",
        "average_fare = t['fare'].mean()\n",
        "minimum_fare = t['fare'].min()\n",
        "maximum_fare = t['fare'].max()\n",
        "\n",
        "print(\"Average Fare:\", average_fare)\n",
        "print(\"Minimum Fare:\", minimum_fare)\n",
        "print(\"Maximum Fare:\", maximum_fare)"
      ],
      "metadata": {
        "colab": {
          "base_uri": "https://localhost:8080/"
        },
        "id": "Ox-S9RJIZD5q",
        "outputId": "0e466048-77d4-4d4c-e770-669490ce105d"
      },
      "execution_count": null,
      "outputs": [
        {
          "output_type": "stream",
          "name": "stdout",
          "text": [
            "Average Fare: 32.09668087739032\n",
            "Minimum Fare: 0.0\n",
            "Maximum Fare: 512.3292\n"
          ]
        }
      ]
    },
    {
      "cell_type": "markdown",
      "source": [
        "\n",
        "• What are the proportions of passengers in different classes?"
      ],
      "metadata": {
        "id": "bO8J9IFeZm-8"
      }
    },
    {
      "cell_type": "code",
      "source": [
        "#calculate the proportions of passengers in different classes\n",
        "class_proportions = t['class'].value_counts(normalize=True)\n",
        "print(\"Proportions of passengers in different classes:\")\n",
        "print(class_proportions)"
      ],
      "metadata": {
        "colab": {
          "base_uri": "https://localhost:8080/"
        },
        "id": "_lBBnaONZ1Eq",
        "outputId": "262509b2-4772-4798-c6a9-7abcc27f128c"
      },
      "execution_count": null,
      "outputs": [
        {
          "output_type": "stream",
          "name": "stdout",
          "text": [
            "Proportions of passengers in different classes:\n",
            "Third     0.552306\n",
            "First     0.240720\n",
            "Second    0.206974\n",
            "Name: class, dtype: float64\n"
          ]
        }
      ]
    },
    {
      "cell_type": "markdown",
      "source": [
        "\n",
        "• What is the female to male ratio in each travel class?"
      ],
      "metadata": {
        "id": "UhlE7uXVa6Ar"
      }
    },
    {
      "cell_type": "code",
      "source": [
        "# \"class\" and \"sex\" columns and count the number of passengers in each group\n",
        "class_sex_counts = t.groupby(['class', 'sex']).size().unstack()\n",
        "\n",
        "# Calculate the female-to-male ratio for each class\n",
        "class_sex_ratios = class_sex_counts['female'] / class_sex_counts['male']\n",
        "\n",
        "print(\"Female-to-Male Ratios in Each Travel Class:\")\n",
        "print(class_sex_ratios)"
      ],
      "metadata": {
        "colab": {
          "base_uri": "https://localhost:8080/"
        },
        "id": "hfiLL9wpbKBb",
        "outputId": "f72ae8dc-c70d-4d18-aee9-54b6faf6063e"
      },
      "execution_count": null,
      "outputs": [
        {
          "output_type": "stream",
          "name": "stdout",
          "text": [
            "Female-to-Male Ratios in Each Travel Class:\n",
            "class\n",
            "First     0.754098\n",
            "Second    0.703704\n",
            "Third     0.414986\n",
            "dtype: float64\n"
          ]
        }
      ]
    },
    {
      "cell_type": "markdown",
      "source": [
        "\n",
        "• What fraction survived?\n",
        "(This fraction is sometimes called the survival rate - although it is an improper name in the\n",
        "sense that there is no “rate” to speak of here; the question is to compute a dimensionless\n",
        "fraction.)"
      ],
      "metadata": {
        "id": "q3uZ0L0fcWIu"
      }
    },
    {
      "cell_type": "code",
      "source": [
        "#calculate the fraction of passengers who survived in the Titanic\n",
        "survival_fraction = t['survived'].mean()\n",
        "print(\"Fraction of passengers who survived:\", survival_fraction)"
      ],
      "metadata": {
        "colab": {
          "base_uri": "https://localhost:8080/"
        },
        "id": "ityoe2KPcwaH",
        "outputId": "99a3ffed-41bb-4720-a75d-398b354668e0"
      },
      "execution_count": null,
      "outputs": [
        {
          "output_type": "stream",
          "name": "stdout",
          "text": [
            "Fraction of passengers who survived: 0.38245219347581555\n"
          ]
        }
      ]
    },
    {
      "cell_type": "markdown",
      "source": [
        "\n",
        "• Are the survival rates of male and female passengers different?"
      ],
      "metadata": {
        "id": "XznTeC1IdmS2"
      }
    },
    {
      "cell_type": "code",
      "source": [
        "# Group the data by gender and calculate the survival rates\n",
        "survival_rates_by_gender = t.groupby('sex')['survived'].mean()\n",
        "\n",
        "print(\"Survival Rates by Gender:\")\n",
        "print(survival_rates_by_gender)"
      ],
      "metadata": {
        "colab": {
          "base_uri": "https://localhost:8080/"
        },
        "id": "DtWROAkIeCF9",
        "outputId": "b3eb7b4e-310d-46dc-cde5-eb3f2d24e329"
      },
      "execution_count": null,
      "outputs": [
        {
          "output_type": "stream",
          "name": "stdout",
          "text": [
            "Survival Rates by Gender:\n",
            "sex\n",
            "female    0.740385\n",
            "male      0.188908\n",
            "Name: survived, dtype: float64\n"
          ]
        }
      ]
    },
    {
      "cell_type": "code",
      "source": [
        "\n",
        "# Check if the survival rates are different\n",
        "if survival_rates_by_gender['male'] != survival_rates_by_gender['female']:\n",
        "    print(\"Survival rates of male and female passengers are different.\")\n",
        "else:\n",
        "    print(\"Survival rates of male and female passengers are the same.\")"
      ],
      "metadata": {
        "colab": {
          "base_uri": "https://localhost:8080/"
        },
        "id": "rE3Jr63wfBnI",
        "outputId": "358a93d3-f5e2-40d9-98a8-2cc00814357d"
      },
      "execution_count": null,
      "outputs": [
        {
          "output_type": "stream",
          "name": "stdout",
          "text": [
            "Survival rates of male and female passengers are different.\n"
          ]
        }
      ]
    },
    {
      "cell_type": "markdown",
      "source": [
        "\n",
        "\n",
        "• Are the survival rates of frst, second, and third class passengers different?"
      ],
      "metadata": {
        "id": "tiEVlViXfi37"
      }
    },
    {
      "cell_type": "code",
      "source": [
        "# Group the data by passenger class and calculate the survival rates\n",
        "survival_rates_by_class = t.groupby('class')['survived'].mean()\n",
        "\n",
        "print(\"Survival Rates by Passenger Class:\")\n",
        "print(survival_rates_by_class)"
      ],
      "metadata": {
        "colab": {
          "base_uri": "https://localhost:8080/"
        },
        "id": "OOcKUcLafyPJ",
        "outputId": "2f04179f-a0e5-4fd7-a1d8-55f7df0c299a"
      },
      "execution_count": null,
      "outputs": [
        {
          "output_type": "stream",
          "name": "stdout",
          "text": [
            "Survival Rates by Passenger Class:\n",
            "class\n",
            "First     0.626168\n",
            "Second    0.472826\n",
            "Third     0.242363\n",
            "Name: survived, dtype: float64\n"
          ]
        }
      ]
    },
    {
      "cell_type": "code",
      "source": [
        "# Check if the survival rates are different\n",
        "if (survival_rates_by_class['First'] != survival_rates_by_class['Second']) or (survival_rates_by_class['First'] != survival_rates_by_class['Third']):\n",
        "    print(\"Survival rates of first, second, and third-class passengers are different.\")\n",
        "else:\n",
        "    print(\"Survival rates of first, second, and third-class passengers are the same.\")"
      ],
      "metadata": {
        "colab": {
          "base_uri": "https://localhost:8080/"
        },
        "id": "pI9Qw4vFgJG5",
        "outputId": "896636be-d840-48cf-851d-231ba695bc8f"
      },
      "execution_count": null,
      "outputs": [
        {
          "output_type": "stream",
          "name": "stdout",
          "text": [
            "Survival rates of first, second, and third-class passengers are different.\n"
          ]
        }
      ]
    },
    {
      "cell_type": "markdown",
      "source": [
        "\n",
        "• How can one print a table of survival rate dependencies on class and gender?"
      ],
      "metadata": {
        "id": "qZCNt1IvgxM2"
      }
    },
    {
      "cell_type": "code",
      "source": [
        "# Create a table with class and gender as columns and survival rate as values\n",
        "survival_table = t.pivot_table(values='survived', index='class', columns='sex', aggfunc='mean')\n",
        "\n",
        "# Name the columns for clarity\n",
        "survival_table.columns = ['Female Survival Rate', 'Male Survival Rate']\n",
        "\n",
        "print(\"Survival Rate Dependencies on Class and Gender:\")\n",
        "print(survival_table)"
      ],
      "metadata": {
        "colab": {
          "base_uri": "https://localhost:8080/"
        },
        "id": "AlL-Pi8Rg-9c",
        "outputId": "eda98a50-c5a3-4dde-aa92-191a6f059f56"
      },
      "execution_count": null,
      "outputs": [
        {
          "output_type": "stream",
          "name": "stdout",
          "text": [
            "Survival Rate Dependencies on Class and Gender:\n",
            "        Female Survival Rate  Male Survival Rate\n",
            "class                                           \n",
            "First               0.967391            0.368852\n",
            "Second              0.921053            0.157407\n",
            "Third               0.500000            0.135447\n"
          ]
        }
      ]
    },
    {
      "cell_type": "markdown",
      "source": [
        "\n",
        "• How can one print a table with number of survivors and average fare for each gender\n",
        "and cabin?"
      ],
      "metadata": {
        "id": "BIaZwGLOhuiH"
      }
    },
    {
      "cell_type": "code",
      "source": [
        "# Create a table with gender and cabin as columns, survivors and average fare as values\n",
        "survival_fare_table = t.pivot_table(values=['survived', 'fare'], index=['sex', 'class'], aggfunc={'survived': 'sum', 'fare': 'mean'})\n",
        "\n",
        "# Name the columns for clarity\n",
        "survival_fare_table.columns = ['Number of Survivors', 'Average Fare']\n",
        "\n",
        "print(\"Table with Number of Survivors and Average Fare for Each Gender and Cabin:\")\n",
        "print(survival_fare_table)"
      ],
      "metadata": {
        "colab": {
          "base_uri": "https://localhost:8080/"
        },
        "id": "WiAXdHMZiEKn",
        "outputId": "01342f6d-8448-4b13-b70c-ba7a5913f0a3"
      },
      "execution_count": null,
      "outputs": [
        {
          "output_type": "stream",
          "name": "stdout",
          "text": [
            "Table with Number of Survivors and Average Fare for Each Gender and Cabin:\n",
            "               Number of Survivors  Average Fare\n",
            "sex    class                                    \n",
            "female First            106.693750            89\n",
            "       Second            21.970121            70\n",
            "       Third             16.118810            72\n",
            "male   First             67.226127            45\n",
            "       Second            19.741782            17\n",
            "       Third             12.661633            47\n"
          ]
        }
      ]
    }
  ]
}