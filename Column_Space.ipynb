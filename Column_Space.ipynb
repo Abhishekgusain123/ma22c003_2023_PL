{
  "cells": [
    {
      "cell_type": "markdown",
      "metadata": {
        "id": "view-in-github",
        "colab_type": "text"
      },
      "source": [
        "<a href=\"https://colab.research.google.com/github/Abhishekgusain123/ma22c003_2023_PL/blob/main/Column_Space.ipynb\" target=\"_parent\"><img src=\"https://colab.research.google.com/assets/colab-badge.svg\" alt=\"Open In Colab\"/></a>"
      ]
    },
    {
      "cell_type": "markdown",
      "metadata": {
        "id": "wfVhINEV2cbG"
      },
      "source": [
        "Task:1-You have seen that the SVD of an m × n matrix A gives, among other things, a\n",
        "basis for the range (column space). Compute this for the given matrix.\n",
        "Another way to obtain a basis for the range is using the QR factorization, also implemented\n",
        "in scipy. Carefully go through the linked QR documentation page. Then compute a basis\n",
        "for the column space of a given A using QR, and then using the SVD."
      ]
    },
    {
      "cell_type": "code",
      "execution_count": 22,
      "metadata": {
        "colab": {
          "base_uri": "https://localhost:8080/"
        },
        "id": "r5KSnvNo0vIJ",
        "outputId": "c8c250a5-1d1a-456b-e2d8-c64200adc532"
      },
      "outputs": [
        {
          "output_type": "stream",
          "name": "stdout",
          "text": [
            "Basis for the column space using SVD:\n",
            "[[-0.21483724  0.88723069  0.40824829]\n",
            " [-0.52058739  0.24964395 -0.81649658]\n",
            " [-0.82633754 -0.38794278  0.40824829]]\n"
          ]
        }
      ],
      "source": [
        "import numpy as np\n",
        "\n",
        "# Define matrix A\n",
        "A = np.array([[1, 2, 3],\n",
        "              [4, 5, 6],\n",
        "              [7, 8, 9]])\n",
        "\n",
        "# Compute the SVD of matrix A\n",
        "U, S, Vt = np.linalg.svd(A)\n",
        "\n",
        "# The basis for the column space is given by the columns of U\n",
        "column_space_basis = U\n",
        "\n",
        "print(\"Basis for the column space using SVD:\")\n",
        "print(column_space_basis)"
      ]
    },
    {
      "cell_type": "code",
      "execution_count": 25,
      "metadata": {
        "colab": {
          "base_uri": "https://localhost:8080/"
        },
        "id": "SKn-uBzl1F_G",
        "outputId": "c29a0265-2605-4cfb-9aac-52feb3b8656c"
      },
      "outputs": [
        {
          "output_type": "stream",
          "name": "stdout",
          "text": [
            "Basis for the column space using QR:\n",
            "[[-0.12309149  0.90453403  0.40824829]\n",
            " [-0.49236596  0.30151134 -0.81649658]\n",
            " [-0.86164044 -0.30151134  0.40824829]]\n",
            "\n",
            "Basis for the column space using SVD:\n",
            "[[-0.21483724  0.88723069  0.40824829]\n",
            " [-0.52058739  0.24964395 -0.81649658]\n",
            " [-0.82633754 -0.38794278  0.40824829]]\n"
          ]
        }
      ],
      "source": [
        "\n",
        "import numpy as np\n",
        "from scipy.linalg import qr, svd\n",
        "\n",
        "# Compute a basis for the column space using QR factorization\n",
        "Q, _ = qr(A, mode='economic')\n",
        "column_space_basis_qr = Q\n",
        "\n",
        "# Compute a basis for the column space using SVD\n",
        "U, _, _ = svd(A)\n",
        "column_space_basis_svd = U\n",
        "\n",
        "print(\"Basis for the column space using QR:\")\n",
        "print(column_space_basis_qr)\n",
        "\n",
        "print(\"\\nBasis for the column space using SVD:\")\n",
        "print(column_space_basis_svd)"
      ]
    },
    {
      "cell_type": "markdown",
      "metadata": {
        "id": "MD_cDoFF21oS"
      },
      "source": [
        "Task 2: Check that the column spaces (not the bases) you obtained in the two ways are the\n",
        "same. (How would you check that two given bases span the same space?)"
      ]
    },
    {
      "cell_type": "code",
      "execution_count": 20,
      "metadata": {
        "colab": {
          "base_uri": "https://localhost:8080/"
        },
        "id": "ahfIk_L13FpG",
        "outputId": "2f5ae799-ec93-4996-f46c-41b7a30495c0"
      },
      "outputs": [
        {
          "output_type": "stream",
          "name": "stdout",
          "text": [
            "Dimensions of column spaces are the same.\n",
            "Column spaces are different.\n"
          ]
        }
      ],
      "source": [
        "\n",
        "# Basis of column space using QR factorization\n",
        "Q, _ = qr(A, mode='economic')\n",
        "\n",
        "# Basis of column space using SVD\n",
        "U, _, _ = svd(A)\n",
        "\n",
        "# if the dimensions of the column spaces are the same\n",
        "if Q.shape[1] == U.shape[1]:\n",
        "    print(\"Dimensions of column spaces are the same.\")\n",
        "\n",
        "# if the column spaces have the same subspace spanned by the basis vectors\n",
        "if np.allclose(np.dot(A, Q), np.dot(A, U)):\n",
        "    print(\"Column spaces are the same.\")\n",
        "else:\n",
        "    print(\"Column spaces are different.\")"
      ]
    },
    {
      "cell_type": "markdown",
      "metadata": {
        "id": "8wYdRH4j4jBh"
      },
      "source": [
        "Task 3: For a 500 × 500 random matrix, which method is faster?"
      ]
    },
    {
      "cell_type": "code",
      "execution_count": 21,
      "metadata": {
        "colab": {
          "base_uri": "https://localhost:8080/"
        },
        "id": "0pxmSYBp5VP0",
        "outputId": "ea4bdaf1-2729-4055-c87c-e0d674a324fc"
      },
      "outputs": [
        {
          "output_type": "stream",
          "name": "stdout",
          "text": [
            "Time taken for QR factorization: 3.5001 seconds\n",
            "Time taken for SVD: 14.093415 seconds\n",
            "QR factorization is faster.\n"
          ]
        }
      ],
      "source": [
        "\n",
        "import numpy as np\n",
        "from scipy.linalg import qr, svd\n",
        "import timeit\n",
        "\n",
        "# Compute a random 500x500 matrix\n",
        "np.random.seed(0)  # for reproducibility\n",
        "A = np.random.rand(500, 500)\n",
        "\n",
        "# Timing for QR factorization\n",
        "qr_time = timeit.timeit(lambda: qr(A, mode='economic'), number=100)\n",
        "\n",
        "# Timing for SVD\n",
        "svd_time = timeit.timeit(lambda: svd(A), number=100)\n",
        "\n",
        "print(f\"Time taken for QR factorization: {qr_time:.4f} seconds\")\n",
        "print(f\"Time taken for SVD: {svd_time:4f} seconds\")\n",
        "\n",
        "if qr_time < svd_time:\n",
        "    print(\"QR factorization is faster.\")\n",
        "else:\n",
        "    print(\"SVD is faster.\")"
      ]
    }
  ],
  "metadata": {
    "colab": {
      "provenance": [],
      "authorship_tag": "ABX9TyPboJkdt0zGF3gWlXyL+F3c",
      "include_colab_link": true
    },
    "kernelspec": {
      "display_name": "Python 3",
      "name": "python3"
    },
    "language_info": {
      "name": "python"
    }
  },
  "nbformat": 4,
  "nbformat_minor": 0
}