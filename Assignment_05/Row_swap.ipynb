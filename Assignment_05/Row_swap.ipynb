{
  "nbformat": 4,
  "nbformat_minor": 0,
  "metadata": {
    "colab": {
      "provenance": []
    },
    "kernelspec": {
      "name": "python3",
      "display_name": "Python 3"
    },
    "language_info": {
      "name": "python"
    }
  },
  "cells": [
    {
      "cell_type": "code",
      "execution_count": 1,
      "metadata": {
        "id": "QsXiiXfepkoI",
        "colab": {
          "base_uri": "https://localhost:8080/"
        },
        "outputId": "f26b0642-7f46-4ea7-b266-bf3fd016d099"
      },
      "outputs": [
        {
          "output_type": "stream",
          "name": "stdout",
          "text": [
            "[[7 8 9]\n",
            " [4 5 6]\n",
            " [7 8 9]]\n"
          ]
        }
      ],
      "source": [
        "import numpy as np\n",
        "\n",
        "def swaprow(i, j, A): #The swaprow function is defined to swap two rows i ,j and A is the input matrix.\n",
        "    tmp = A[i, :]# Store the 'i'th row of matrix A in a temporary variable 'tmp'\n",
        "    A[i, :] = A[j, :] #we replace the values of row i with the values of row j.\n",
        "    A[j, :] = tmp  # Replace the 'j'th row of A with the original ith row stored in tmp\n",
        "    return A\n",
        "    print(id(tmp))\n",
        "    print(id( A[j, :]))\n",
        "    print(id( A[i, :]))\n",
        "\n",
        "\n",
        "# Example usage:\n",
        "A = np.array([[1, 2, 3],\n",
        "              [4, 5, 6],\n",
        "              [7, 8, 9]])\n",
        "\n",
        "# Call swaprow() to interchange rows 0 and 2 (first and last rows)\n",
        "swaprow(0, 2, A)\n",
        "\n",
        "# Print the updated matrix A\n",
        "print(A)\n",
        "\n"
      ]
    },
    {
      "cell_type": "code",
      "source": [
        "import numpy as np\n",
        "\n",
        "def new_swaprows(i, j, A):\n",
        "    A[[i, j]] = A[[j, i]] #Swapping row 'i' and 'j'.\n",
        "\n",
        "# Example,now we consider a 3*3 matrix:\n",
        "A = np.array([[1, 2, 3],\n",
        "             [4, 5, 6],\n",
        "            [7, 8, 9]])\n",
        "print(\"Original array:\")\n",
        "print(A)\n",
        "\n",
        "new_swaprows(0,2 , A) #Swaping row '0' and row '2':\n",
        "print(\"\\nArray after swapping rows 0 and 2:\")\n",
        "print(A)\n"
      ],
      "metadata": {
        "colab": {
          "base_uri": "https://localhost:8080/"
        },
        "id": "SZJ9gkaqvKuK",
        "outputId": "9722db52-e6f5-4d6e-ebe9-0c81a5227db4"
      },
      "execution_count": 2,
      "outputs": [
        {
          "output_type": "stream",
          "name": "stdout",
          "text": [
            "Original array:\n",
            "[[1 2 3]\n",
            " [4 5 6]\n",
            " [7 8 9]]\n",
            "\n",
            "Array after swapping rows 0 and 2:\n",
            "[[7 8 9]\n",
            " [4 5 6]\n",
            " [1 2 3]]\n"
          ]
        }
      ]
    },
    {
      "cell_type": "markdown",
      "source": [
        "\n",
        "#This implementation directly swaps the rows i and j without using a temporary variable, making it more efficient.\n",
        "# It's also more concise and easier to read.\n",
        "\n"
      ],
      "metadata": {
        "id": "VjMlYRQarhru"
      }
    }
  ]
}