{
  "nbformat": 4,
  "nbformat_minor": 0,
  "metadata": {
    "colab": {
      "provenance": []
    },
    "kernelspec": {
      "name": "python3",
      "display_name": "Python 3"
    },
    "language_info": {
      "name": "python"
    }
  },
  "cells": [
    {
      "cell_type": "markdown",
      "source": [
        "Task 1: Find the null space of the given matrix A using SVD."
      ],
      "metadata": {
        "id": "uGLbEtfp8HCv"
      }
    },
    {
      "cell_type": "code",
      "execution_count": null,
      "metadata": {
        "colab": {
          "base_uri": "https://localhost:8080/"
        },
        "id": "XFOdi7Md7KcN",
        "outputId": "533cb92b-d1ae-4a2c-f9f2-cf315d1a3681"
      },
      "outputs": [
        {
          "output_type": "stream",
          "name": "stdout",
          "text": [
            "Null Space of A using SVD:\n",
            "[[-0.40824829]\n",
            " [ 0.81649658]\n",
            " [-0.40824829]]\n"
          ]
        }
      ],
      "source": [
        "import numpy as np\n",
        "\n",
        "# Define a matrix A\n",
        "A = np.array([[1, 2, 3],\n",
        "              [4, 5, 6],\n",
        "              [7, 8, 9]])\n",
        "\n",
        "# Calculate the SVD\n",
        "U, S, VT = np.linalg.svd(A)\n",
        "\n",
        "# Find the null space basis vectors\n",
        "null_space_basis = VT.T[:, np.isclose(S, 0)]\n",
        "\n",
        "# Display the null space basis vectors\n",
        "print(\"Null Space of A using SVD:\")\n",
        "print(null_space_basis)"
      ]
    },
    {
      "cell_type": "markdown",
      "source": [
        "Task 2: Find the null space of the same matrix A using the QR factorization. Use the linear\n",
        "algebra theorem that tells us that the null space of A is equal to the orthogonal complement\n",
        "of the range of the transpose At . (How would you extract the orthogonal complement from\n",
        "a full QR factorization?)"
      ],
      "metadata": {
        "id": "GLBkqBxb8RN_"
      }
    },
    {
      "cell_type": "code",
      "source": [
        "\n",
        "# QR factorization on the transpose of A\n",
        "Q, R = np.linalg.qr(A.T, mode='complete')\n",
        "\n",
        "# rank of A^T (number of non-zero diagonal elements in R)\n",
        "rank = np.sum(np.abs(np.diagonal(R)) > 1e-10)\n",
        "\n",
        "# Extract the range of A^T (first 'rank' columns of Q)\n",
        "range_of_transpose = Q[:, :rank]\n",
        "\n",
        "# Extract the orthogonal complement (null space of A) from the remaining columns of Q\n",
        "orthogonal_complement = Q[:, rank:]\n",
        "\n",
        "print(\"Null space of  A using QR factorization:\")\n",
        "print(orthogonal_complement)"
      ],
      "metadata": {
        "colab": {
          "base_uri": "https://localhost:8080/"
        },
        "id": "0F82Isbph5da",
        "outputId": "b1c4dffb-3126-4d76-9820-76ebbcd968d0"
      },
      "execution_count": null,
      "outputs": [
        {
          "output_type": "stream",
          "name": "stdout",
          "text": [
            "Null space of  A using QR factorization:\n",
            "[[ 0.40824829]\n",
            " [-0.81649658]\n",
            " [ 0.40824829]]\n"
          ]
        }
      ]
    },
    {
      "cell_type": "markdown",
      "source": [
        "Task 3: Check that both answers above span the same space."
      ],
      "metadata": {
        "id": "nO59e5t29JOM"
      }
    },
    {
      "cell_type": "code",
      "source": [
        "\n",
        "# Null space using SVD\n",
        "U, S, Vt = np.linalg.svd(A)\n",
        "tolerance = 1e-10\n",
        "null_space_svd = Vt.T[:, len(S[S > tolerance]):]\n",
        "\n",
        "# Null space using QR factorization\n",
        "Q, R = np.linalg.qr(A.T, mode='complete')\n",
        "rank = np.sum(np.abs(np.diagonal(R)) > 1e-10)\n",
        "null_space_qr = Q[:, rank:]\n",
        "\n",
        "# Check if the rows of the null space matrices are linearly dependent\n",
        "linearly_dependent_svd = np.linalg.matrix_rank(null_space_svd) < null_space_svd.shape[0]\n",
        "linearly_dependent_qr = np.linalg.matrix_rank(null_space_qr) < null_space_qr.shape[0]\n",
        "\n",
        "if linearly_dependent_svd and linearly_dependent_qr:\n",
        "    print(\"The null space matrices span the same space.\")\n",
        "else:\n",
        "    print(\"The null space matrices do not span the same space.\")"
      ],
      "metadata": {
        "colab": {
          "base_uri": "https://localhost:8080/"
        },
        "id": "FyEZEkK9lpuT",
        "outputId": "09a10f1a-3482-4b82-9314-50d849981f2e"
      },
      "execution_count": null,
      "outputs": [
        {
          "output_type": "stream",
          "name": "stdout",
          "text": [
            "The null space matrices span the same space.\n"
          ]
        }
      ]
    }
  ]
}