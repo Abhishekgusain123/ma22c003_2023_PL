{
  "nbformat": 4,
  "nbformat_minor": 0,
  "metadata": {
    "colab": {
      "provenance": []
    },
    "kernelspec": {
      "name": "python3",
      "display_name": "Python 3"
    },
    "language_info": {
      "name": "python"
    }
  },
  "cells": [
    {
      "cell_type": "markdown",
      "source": [
        "Task 1: Model the process as a Markov chain. Choose as states the number of balls in the\n",
        "frst urn. Write a function to make the transition matrix P for general k. Print out your\n",
        "transition matrix for k = 2 (which should be 5 x 5). Draw the directed graph of the chain\n",
        "for k = 2 case."
      ],
      "metadata": {
        "id": "8yHBCd4rFNaC"
      }
    },
    {
      "cell_type": "code",
      "source": [
        "import numpy as np\n",
        "\n",
        "def create_transition_matrix(k):\n",
        "    num_states = 2 * k + 1\n",
        "    P = np.zeros((num_states, num_states))\n",
        "\n",
        "    for n in range(num_states):\n",
        "        if n == 0:\n",
        "            P[n][n+1] = 1\n",
        "        elif n == 2 * k:\n",
        "            P[n][n-1] = 1\n",
        "        else:\n",
        "            P[n][n-1] = n / (2 * k)\n",
        "            P[n][n+1] = 1 - n / (2 * k)\n",
        "\n",
        "    return P\n",
        "\n",
        "k_value = 2  #for k = 2\n",
        "transition_matrix = create_transition_matrix(k_value)\n",
        "print(transition_matrix)"
      ],
      "metadata": {
        "id": "8jzsh8L3EtpI"
      },
      "execution_count": null,
      "outputs": []
    },
    {
      "cell_type": "code",
      "source": [
        "pip install networkx"
      ],
      "metadata": {
        "id": "SQiGlBtQFrwy"
      },
      "execution_count": null,
      "outputs": []
    },
    {
      "cell_type": "code",
      "source": [
        "import networkx as nx\n",
        "import matplotlib.pyplot as plt\n",
        "\n",
        "# Create the directed graph\n",
        "k = 2\n",
        "G = nx.DiGraph()\n",
        "states = range(2 * k + 1)\n",
        "\n",
        "for n in states:\n",
        "    if n == 0:\n",
        "        G.add_edge(n, n + 1)\n",
        "    elif n == 2 * k:\n",
        "        G.add_edge(n, n - 1)\n",
        "    else:\n",
        "        G.add_edge(n, n - 1)\n",
        "        G.add_edge(n, n + 1)\n",
        "\n",
        "# Draw the directed graph\n",
        "pos = {n: (n, 0) for n in states}\n",
        "nx.draw(G, pos, with_labels=True, node_size=500, node_color='lightblue', font_size=10)\n",
        "plt.title(\"Ehrenfest Thought Experiment (k = 2)\")\n",
        "plt.show()"
      ],
      "metadata": {
        "id": "9ITKTxrDF9eA"
      },
      "execution_count": null,
      "outputs": []
    },
    {
      "cell_type": "markdown",
      "source": [
        "\n",
        "Task 2: Is P irreducible?"
      ],
      "metadata": {
        "id": "oIHY0gnrGO5H"
      }
    },
    {
      "cell_type": "code",
      "source": [
        "import numpy as np\n",
        "\n",
        "def is_irreducible(P):\n",
        "    num_states = P.shape[0]\n",
        "    visited = np.zeros(num_states, dtype=bool)\n",
        "\n",
        "    def dfs(state):   #uses depth-first search (DFS) to check if all states are reachable from state 0\n",
        "        visited[state] = True\n",
        "        for next_state in range(num_states):\n",
        "            if P[state][next_state] > 0 and not visited[next_state]:\n",
        "                dfs(next_state)\n",
        "\n",
        "    # Start the DFS from state 0\n",
        "    dfs(0)\n",
        "\n",
        "    # If all states are visited, the chain is irreducible\n",
        "    return np.all(visited)\n",
        "\n",
        "# for k = 2\n",
        "k_value = 2\n",
        "transition_matrix = create_transition_matrix(k_value)\n",
        "\n",
        "if is_irreducible(transition_matrix):\n",
        "    print(\"The Markov chain is irreducible.\")\n",
        "else:\n",
        "    print(\"The Markov chain is not irreducible.\")"
      ],
      "metadata": {
        "id": "hs_mV3sGGSBk"
      },
      "execution_count": null,
      "outputs": []
    },
    {
      "cell_type": "markdown",
      "source": [
        "Task 3: Does Pn converge as n → ∞?"
      ],
      "metadata": {
        "id": "E5rfT9cyHOOP"
      }
    },
    {
      "cell_type": "code",
      "source": [
        "import numpy as np\n",
        "import math # math.gcd function for gcd.\n",
        "\n",
        "def is_aperiodic(P):       #If all states have a period of 1, it indicates aperiodicity, which is a necessary condition for the chain to converge as n → ∞\n",
        "    num_states = P.shape[0]\n",
        "    periods = [0] * num_states\n",
        "\n",
        "    for i in range(num_states):\n",
        "        for j in range(num_states):\n",
        "            if P[i][j] > 0:\n",
        "                periods[j] = math.gcd(periods[j], periods[i] + 1)\n",
        "\n",
        "    return all(period == 1 for period in periods)\n",
        "\n",
        "# k = 2\n",
        "k_value = 2\n",
        "transition_matrix = create_transition_matrix(k_value)\n",
        "\n",
        "if is_aperiodic(transition_matrix):\n",
        "    print(\"The Markov chain is aperiodic and converges as n → ∞.\")\n",
        "else:\n",
        "    print(\"The Markov chain may not be aperiodic or may not converge as n → ∞.\")"
      ],
      "metadata": {
        "id": "zaIunuALIOpR"
      },
      "execution_count": null,
      "outputs": []
    },
    {
      "cell_type": "markdown",
      "source": [
        "\n",
        "Task 4: Plot the stationary distribution of this Markov chain for k = 100."
      ],
      "metadata": {
        "id": "G1eg-RzsJRX3"
      }
    },
    {
      "cell_type": "code",
      "source": [
        "import numpy as np\n",
        "import matplotlib.pyplot as plt\n",
        "\n",
        "def compute_stationary_distribution(P):\n",
        "    num_states = P.shape[0]\n",
        "\n",
        "    eigenvalues, eigenvectors = np.linalg.eig(P.T) # Find the stationary distribution using the eigenvector corresponding to eigenvalue 1\n",
        "    stationary_distribution = np.real(eigenvectors[:, np.argmax(np.isclose(eigenvalues, 1.0))])\n",
        "    stationary_distribution /= stationary_distribution.sum()\n",
        "    return stationary_distribution\n",
        "\n",
        "k_value = 100  # for k=100\n",
        "transition_matrix = create_transition_matrix(k_value)\n",
        "stationary_distribution = compute_stationary_distribution(transition_matrix)\n",
        "\n",
        "# Plot the stationary distribution\n",
        "plt.figure(figsize=(10, 6))\n",
        "states = range(2 * k_value + 1)\n",
        "plt.bar(states, stationary_distribution)\n",
        "plt.xlabel(\"State\")\n",
        "plt.ylabel(\"Probability\")\n",
        "plt.title(\"Stationary Distribution (k = 100)\")\n",
        "plt.show()"
      ],
      "metadata": {
        "id": "3eu-_RJsJcVN"
      },
      "execution_count": null,
      "outputs": []
    }
  ]
}