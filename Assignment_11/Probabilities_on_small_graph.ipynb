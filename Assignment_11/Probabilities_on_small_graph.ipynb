{
  "nbformat": 4,
  "nbformat_minor": 0,
  "metadata": {
    "colab": {
      "provenance": []
    },
    "kernelspec": {
      "name": "python3",
      "display_name": "Python 3"
    },
    "language_info": {
      "name": "python"
    }
  },
  "cells": [
    {
      "cell_type": "markdown",
      "source": [
        "\n",
        "Task 1:\n",
        "What is the probability that you can hit one state from another state (in any number of\n",
        "steps) in this Markov chain? Answer by looking at the graph and double check that an\n",
        "eigenvector gives what is expected."
      ],
      "metadata": {
        "id": "aisSeQ-9mJyn"
      }
    },
    {
      "cell_type": "code",
      "source": [
        "import numpy as np\n",
        "\n",
        "# Define the transition matrix\n",
        "transition_matrix = np.array([[0.2, 0.5, 0.3],\n",
        "                              [0.1, 0.4, 0.5],\n",
        "                              [0.3, 0.2, 0.5]])\n",
        "\n",
        "# Define the initial state vector\n",
        "initial_state = np.array([1, 0, 0])  # Starting in state 0\n",
        "\n",
        "# Calculate the probability of specific state after n steps\n",
        "n = 5  # No.of steps\n",
        "result = np.linalg.matrix_power(transition_matrix, n).dot(initial_state)\n",
        "\n",
        "# The result vector contains the probabilities of being in each state after n steps\n",
        "print(result)"
      ],
      "metadata": {
        "id": "d_jMCuzrmaL-"
      },
      "execution_count": null,
      "outputs": []
    },
    {
      "cell_type": "markdown",
      "source": [
        "Task 2:\n",
        "\n",
        "• Starting from B = {3}, what is the probability of hitting A = {0, 1, 2} in any number\n",
        "of steps?"
      ],
      "metadata": {
        "id": "fhKrw7nPn51P"
      }
    },
    {
      "cell_type": "code",
      "source": [
        "# Transition matrix\n",
        "transition_matrix = np.array([\n",
        "    [0.1, 0.2, 0.7, 0],\n",
        "    [0.3, 0.4, 0.3, 0],\n",
        "    [0.5, 0, 0.5, 0],\n",
        "    [0, 0, 0, 1]\n",
        "])\n",
        "\n",
        "# Define the starting state B = {3}\n",
        "initial_state = np.array([0, 0, 0, 1])\n",
        "\n",
        "# Calculate the probability of hitting A = {0, 1, 2} starting from B = {3}\n",
        "target_states = [0, 1, 2]\n",
        "probability_hitting_A = sum(initial_state[state] for state in target_states)\n",
        "\n",
        "print(probability_hitting_A)"
      ],
      "metadata": {
        "id": "iIv_VkPOn_TP"
      },
      "execution_count": null,
      "outputs": []
    },
    {
      "cell_type": "markdown",
      "source": [
        "\n",
        "• Starting from from any state in B = {0, 1, 2} what is the probability of hitting A =\n",
        "{3} in any number of steps?"
      ],
      "metadata": {
        "id": "s_APoTSYom96"
      }
    },
    {
      "cell_type": "code",
      "source": [
        "# Transition matrix\n",
        "transition_matrix = np.array([\n",
        "    [0, 0.3, 0.7, 0],\n",
        "    [0, 0.4, 0.6, 0],\n",
        "    [0, 0, 1, 0],\n",
        "    [0, 0, 0, 1]\n",
        "])\n",
        "\n",
        "# Define the starting states B = {0, 1, 2}\n",
        "initial_states = np.array([1, 1, 1, 0])\n",
        "\n",
        "# Calculate the probability of hitting A = {3} starting from B = {0, 1, 2}\n",
        "target_state = 3\n",
        "probability_hitting_A = sum(initial_states[state] for state in range(len(transition_matrix)) if state != target_state)\n",
        "\n",
        "print(probability_hitting_A)"
      ],
      "metadata": {
        "id": "-WwcWDz4o3Ll"
      },
      "execution_count": null,
      "outputs": []
    },
    {
      "cell_type": "markdown",
      "source": [
        "\n",
        "• Is this an absorbing Markov chain? Verify that the answers come out the same using\n",
        "the two methods you learnt."
      ],
      "metadata": {
        "id": "7kLHHyX-qNAu"
      }
    },
    {
      "cell_type": "code",
      "source": [
        "#Transition matrix\n",
        "transition_matrix = np.array([\n",
        "    [0.1, 0.2, 0.7],\n",
        "    [0.3, 0.4, 0.3],\n",
        "    [0.5, 0, 0.5]\n",
        "])\n",
        "\n",
        "# Method 1: Structural Analysis\n",
        "is_absorbing = np.all(np.diag(transition_matrix) == 1)\n",
        "if is_absorbing:\n",
        "    print(\"The Markov chain is absorbing.\")\n",
        "else:\n",
        "    print(\"The Markov chain is not absorbing.\")\n",
        "\n",
        "# Method 2: Calculation\n",
        "absorbing_states = [2]  # 2 is absorbing state\n",
        "for state in range(len(transition_matrix)):\n",
        "    if state not in absorbing_states:\n",
        "        probability_hitting_absorbing = transition_matrix[state, absorbing_states].sum()\n",
        "        if probability_hitting_absorbing == 1:\n",
        "            print(f\"State {state} can reach an absorbing state with probability 1.\")"
      ],
      "metadata": {
        "id": "uiSfLJuDqq_i"
      },
      "execution_count": null,
      "outputs": []
    },
    {
      "cell_type": "markdown",
      "source": [
        "Task 3:\n",
        "• What are the hitting probabilities of A = {0, 1, 2} from the remaining states?"
      ],
      "metadata": {
        "id": "sqmTV36BrwMq"
      }
    },
    {
      "cell_type": "code",
      "source": [
        " #Transition matrix\n",
        "transition_matrix = np.array([\n",
        "    [0.1, 0.2, 0.7],\n",
        "    [0.3, 0.4, 0.3],\n",
        "    [0.5, 0, 0.5]\n",
        "])\n",
        "\n",
        "# Define the target states A = {0, 1, 2}\n",
        "target_states = [0, 1, 2]\n",
        "\n",
        "# Calculate the hitting probabilities from the remaining states\n",
        "hitting_probabilities = []\n",
        "\n",
        "for state in range(len(transition_matrix)):\n",
        "    if state not in target_states:\n",
        "        initial_state = np.zeros(len(transition_matrix))\n",
        "        initial_state[state] = 1\n",
        "        probability_hitting_A = sum(initial_state[state] for state in target_states)\n",
        "        hitting_probabilities.append((state, probability_hitting_A))\n",
        "\n",
        "print(\"Hitting probabilities of A = {0, 1, 2} from the remaining states:\")\n",
        "for state, probability in hitting_probabilities:\n",
        "    print(f\"From state {state} to A: {probability}\")"
      ],
      "metadata": {
        "id": "fAfYpLaQtTI1"
      },
      "execution_count": null,
      "outputs": []
    },
    {
      "cell_type": "markdown",
      "source": [
        "\n",
        "• What are the hitting probabilities of A = {4, 5, 6} from the remaining states?"
      ],
      "metadata": {
        "id": "SN5rarCvtk10"
      }
    },
    {
      "cell_type": "code",
      "source": [
        "#Define new Transition matrix\n",
        "transition_matrix = np.array([\n",
        "    [0.1, 0.2, 0.3, 0.4, 0, 0, 0],\n",
        "    [0, 0.2, 0.3, 0.5, 0, 0, 0],\n",
        "    [0, 0, 0.6, 0.4, 0, 0, 0],\n",
        "    [0, 0, 0, 1, 0, 0, 0],\n",
        "    [0, 0, 0, 0, 0.1, 0.4, 0.5],\n",
        "    [0, 0, 0, 0, 0, 0.7, 0.3],\n",
        "    [0, 0, 0, 0, 0, 0, 1]\n",
        "])\n",
        "\n",
        "# Define the target states A = {4, 5, 6}\n",
        "target_states = [4, 5, 6]\n",
        "\n",
        "# Calculate the hitting probabilities from the remaining states\n",
        "hitting_probabilities = []\n",
        "\n",
        "for state in range(len(transition_matrix)):\n",
        "    if state not in target_states:\n",
        "        initial_state = np.zeros(len(transition_matrix))\n",
        "        initial_state[state] = 1\n",
        "        probability_hitting_A = sum(initial_state[state] for state in target_states)\n",
        "        hitting_probabilities.append((state, probability_hitting_A))\n",
        "\n",
        "print(\"Hitting probabilities of A = {4, 5, 6} from the remaining states:\")\n",
        "for state, probability in hitting_probabilities:\n",
        "    print(f\"From state {state} to A: {probability}\")"
      ],
      "metadata": {
        "id": "Ld8BNRz5tyc1"
      },
      "execution_count": null,
      "outputs": []
    },
    {
      "cell_type": "markdown",
      "source": [
        "\n",
        "• What are the hitting probabilities of A = {3} from the remaining states?"
      ],
      "metadata": {
        "id": "7njwMBSTunAC"
      }
    },
    {
      "cell_type": "code",
      "source": [
        "# Define new transition matrix\n",
        "transition_matrix = np.array([\n",
        "    [0.1, 0.2, 0.3, 0.4],\n",
        "    [0.3, 0.4, 0.3, 0],\n",
        "    [0.5, 0, 0.5, 0],\n",
        "    [0, 0, 0, 1]\n",
        "])\n",
        "\n",
        "# Define the target state A = {3}\n",
        "target_state = 3\n",
        "\n",
        "# Calculate the hitting probabilities from the remaining states\n",
        "hitting_probabilities = []\n",
        "\n",
        "for state in range(len(transition_matrix)):\n",
        "    if state != target_state:\n",
        "        initial_state = np.zeros(len(transition_matrix))\n",
        "        initial_state[state] = 1\n",
        "        probability_hitting_A = initial_state[target_state]\n",
        "        hitting_probabilities.append((state, probability_hitting_A))\n",
        "\n",
        "print(\"Hitting probabilities of A = {3} from the remaining states:\")\n",
        "for state, probability in hitting_probabilities:\n",
        "    print(f\"From state {state} to A: {probability}\")"
      ],
      "metadata": {
        "id": "fMM64qxYu-dP"
      },
      "execution_count": null,
      "outputs": []
    },
    {
      "cell_type": "markdown",
      "source": [
        "Task 4:\n",
        "• Starting from 1 what is the probability of hitting 0 in any number of steps?"
      ],
      "metadata": {
        "id": "lpFyIe9VvOUO"
      }
    },
    {
      "cell_type": "code",
      "source": [
        "#Define the transition matrix\n",
        "transition_matrix = np.array([\n",
        "    [0.1, 0.9],\n",
        "    [0.4, 0.6]\n",
        "])\n",
        "\n",
        "# Define the initial state vector (starting in state 1)\n",
        "initial_state = np.array([0, 1])\n",
        "\n",
        "# Calculate the probability of hitting state 0 starting from state 1\n",
        "target_state = 0\n",
        "hitting_probability = initial_state[target_state]\n",
        "\n",
        "print(\"Hitting Probability:\", hitting_probability)"
      ],
      "metadata": {
        "id": "MoWolhsWveir"
      },
      "execution_count": null,
      "outputs": []
    },
    {
      "cell_type": "markdown",
      "source": [
        "\n",
        "• Starting from 3 what is the probability of hitting 6 in any number of steps?"
      ],
      "metadata": {
        "id": "zWZxTqk1vYmR"
      }
    },
    {
      "cell_type": "code",
      "source": [
        "#Define the new transition matrix\n",
        "transition_matrix = np.array([\n",
        "    [0.1, 0.2, 0.7],\n",
        "    [0.3, 0.4, 0.3],\n",
        "    [0.5, 0, 0.5]\n",
        "])\n",
        "\n",
        "# Define the initial state vector (starting in state 3)\n",
        "initial_state = np.array([0, 0, 1])\n",
        "\n",
        "# Calculate the probability of hitting state 6 (which doesn't exist in this case)\n",
        "target_state = 6\n",
        "hitting_probability = 0  # Probability of hitting a state that doesn't exist is 0\n",
        "\n",
        "print(\"Hitting Probability:\", hitting_probability)"
      ],
      "metadata": {
        "id": "UvsrSE9Iwpt9"
      },
      "execution_count": null,
      "outputs": []
    }
  ]
}