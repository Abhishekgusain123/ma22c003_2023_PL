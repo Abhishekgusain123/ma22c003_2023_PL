{
  "nbformat": 4,
  "nbformat_minor": 0,
  "metadata": {
    "colab": {
      "provenance": []
    },
    "kernelspec": {
      "name": "python3",
      "display_name": "Python 3"
    },
    "language_info": {
      "name": "python"
    }
  },
  "cells": [
    {
      "cell_type": "markdown",
      "source": [
        "Question 1: What is the probability that the insurance company will run out of its reserve\n",
        "eventually and be ruined?\n",
        "(Hint: The situations of the gambler G of [Gambler’s Ruin] and the insurance company are\n",
        "not that different: at the end of each game, gambler G is up or down a chip; and at the end\n",
        "of each day, the insurance company reserve is up or down by 100. When G has no chips\n",
        "to play, G is ruined; when the insurance company’s reserve drops to $0, it is ruined.)"
      ],
      "metadata": {
        "id": "ja6UVF4Gig-R"
      }
    },
    {
      "cell_type": "code",
      "source": [
        "def probability_of_ruin(prob_claim, reserve, max_days):\n",
        "    # Define a memoization table to store computed probabilities\n",
        "    memo = {}\n",
        "\n",
        "    def calculate_probability(days, current_reserve):\n",
        "        if current_reserve <= 0:\n",
        "            return 1\n",
        "\n",
        "        if days == max_days:\n",
        "            return 0\n",
        "\n",
        "        if (days, current_reserve) in memo:\n",
        "            return memo[(days, current_reserve)]\n",
        "\n",
        "        # Calculate the probability of ruin\n",
        "        prob_ruin = prob_claim * calculate_probability(days + 1, current_reserve - 200) + \\\n",
        "                    (1 - prob_claim) * calculate_probability(days + 1, current_reserve + 100)\n",
        "\n",
        "        memo[(days, current_reserve)] = prob_ruin\n",
        "        return prob_ruin\n",
        "\n",
        "    # start calculation\n",
        "    return calculate_probability(0, reserve)\n",
        "\n",
        "# Parameters\n",
        "claim_probability = 0.46\n",
        "initial_reserve = 1000\n",
        "max_simulation_days = 100  # Adjust this to the desired number of days for the simulation\n",
        "\n",
        "# Calculate the probability of ruin\n",
        "result = probability_of_ruin(claim_probability, initial_reserve, max_simulation_days)\n",
        "print(f\"Probability of insurance company running out of reserve in {max_simulation_days} days: {result:.4f}\")"
      ],
      "metadata": {
        "colab": {
          "base_uri": "https://localhost:8080/"
        },
        "id": "qnZbOq8WgoZ5",
        "outputId": "e85b272a-b2d4-4fc9-b65a-91a28945c04c"
      },
      "execution_count": null,
      "outputs": [
        {
          "output_type": "stream",
          "name": "stdout",
          "text": [
            "Probability of insurance company running out of reserve in 100 days: 0.9886\n"
          ]
        }
      ]
    },
    {
      "cell_type": "markdown",
      "source": [
        "\n",
        "Question 2: What should be the company’s reserve in order to make the probability of the\n",
        "company’s ruin less than 0.1%?"
      ],
      "metadata": {
        "id": "54PMjgqAi9xs"
      }
    },
    {
      "cell_type": "code",
      "source": [
        "\n",
        "def calculate_probability_of_ruin(prob_claim, reserve, max_days):\n",
        "\n",
        "    memo = {}\n",
        "\n",
        "    def probability_of_ruin(days, current_reserve):\n",
        "        if days == 0:\n",
        "            return 0\n",
        "\n",
        "        if current_reserve <= 0:\n",
        "            return 1\n",
        "\n",
        "        if (days, current_reserve) in memo:\n",
        "            return memo[(days, current_reserve)]\n",
        "\n",
        "        # Calculate the probability of ruin\n",
        "        prob_ruin = prob_claim * probability_of_ruin(days - 1, current_reserve - 200) + \\\n",
        "                    (1 - prob_claim) * probability_of_ruin(days - 1, current_reserve + 100)\n",
        "\n",
        "        memo[(days, current_reserve)] = prob_ruin\n",
        "        return prob_ruin\n",
        "\n",
        "    required_reserve = 0\n",
        "    while probability_of_ruin(max_days, required_reserve) > 0.001:\n",
        "        required_reserve += 100\n",
        "\n",
        "    return required_reserve\n",
        "\n",
        "# Parameters\n",
        "claim_probability = 0.46\n",
        "max_simulation_days = 100  # Adjust this to the desired number of days for the simulation\n",
        "\n",
        "# Find the reserve that makes the probability of ruin less than 0.1%\n",
        "required_reserve = calculate_probability_of_ruin(claim_probability, 0, max_simulation_days)\n",
        "print(f\"To make the probability of ruin less than 0.1%, the company's reserve should be at least ${required_reserve}\")"
      ],
      "metadata": {
        "colab": {
          "base_uri": "https://localhost:8080/"
        },
        "id": "Ze8QnfrWkkUt",
        "outputId": "a8d2168f-1adf-4996-f405-8a45f7bb7be2"
      },
      "execution_count": null,
      "outputs": [
        {
          "output_type": "stream",
          "name": "stdout",
          "text": [
            "To make the probability of ruin less than 0.1%, the company's reserve should be at least $8500\n"
          ]
        }
      ]
    }
  ]
}