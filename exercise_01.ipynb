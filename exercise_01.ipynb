{
  "nbformat": 4,
  "nbformat_minor": 0,
  "metadata": {
    "colab": {
      "provenance": []
    },
    "kernelspec": {
      "name": "python3",
      "display_name": "Python 3"
    },
    "language_info": {
      "name": "python"
    }
  },
  "cells": [
    {
      "cell_type": "code",
      "execution_count": 4,
      "metadata": {
        "colab": {
          "base_uri": "https://localhost:8080/"
        },
        "id": "g5EqWLI8JB5F",
        "outputId": "ffd2c202-09f0-4d09-e225-8b9b12512536"
      },
      "outputs": [
        {
          "output_type": "stream",
          "name": "stdout",
          "text": [
            "enter the value of k 10\n",
            "enter the value of l 1\n",
            "1\n",
            "3\n",
            "6\n",
            "10\n",
            "15\n",
            "21\n",
            "28\n",
            "36\n",
            "45\n",
            "55\n"
          ]
        }
      ],
      "source": [
        "k=int(input(\"enter the value of k \" ))\n",
        "l=int(input(\"enter the value of l \" ))\n",
        "sum=0\n",
        "for j in range(1,k+1):\n",
        "  sum=sum+j**l\n",
        "  j=j+1\n",
        "  print(sum)"
      ]
    }
  ]
}