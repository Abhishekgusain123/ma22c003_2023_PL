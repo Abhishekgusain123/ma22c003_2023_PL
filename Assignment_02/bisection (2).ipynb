{
  "nbformat": 4,
  "nbformat_minor": 0,
  "metadata": {
    "colab": {
      "provenance": []
    },
    "kernelspec": {
      "name": "python3",
      "display_name": "Python 3"
    },
    "language_info": {
      "name": "python"
    }
  },
  "cells": [
    {
      "cell_type": "code",
      "execution_count": 7,
      "metadata": {
        "colab": {
          "base_uri": "https://localhost:8080/"
        },
        "id": "u_lLGY9r-BAl",
        "outputId": "a748f816-1176-41de-f4d9-5fd99f5c6e27"
      },
      "outputs": [
        {
          "output_type": "stream",
          "name": "stdout",
          "text": [
            "a= 1\n",
            "b= 2\n",
            "eps= 1e-10\n",
            "root=1.5707963267923333\n"
          ]
        }
      ],
      "source": [
        "from math import cos,sin\n",
        "\n",
        "a=float(input(\"a= \"))# starting value  of interval\n",
        "b=float(input(\"b= \"))# ending value of interval\n",
        "eps=float(input(\"eps= \"))# for accuracy\n",
        "niters=100# no of iteration\n",
        "\n",
        "def func():\n",
        "  return cos\n",
        "\n",
        "f=func()\n",
        "\n",
        "\n",
        "def bisection_method(f,a,b,eps,niters):\n",
        "    if f(a) * f(b) >= 0:\n",
        "        print(\"The function values at the endpoints must have different signs.\")\n",
        "    else:\n",
        "        iteration = 0\n",
        "        c = (a + b) / 2\n",
        "        while abs(b - a) / 2 > eps and iteration < niters :\n",
        "            if f(c) == 0:\n",
        "                print(c)\n",
        "            elif f(c) * f(a) < 0:\n",
        "                b = c\n",
        "            else:\n",
        "                a = c\n",
        "            iteration += 1\n",
        "            c = (a + b) / 2\n",
        "        print(f\"root={c}\")\n",
        "\n",
        "bisection_method(f,a,b,eps,niters)"
      ]
    }
  ]
}