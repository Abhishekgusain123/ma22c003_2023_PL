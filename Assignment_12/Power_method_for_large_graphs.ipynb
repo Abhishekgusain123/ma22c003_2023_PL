{
  "nbformat": 4,
  "nbformat_minor": 0,
  "metadata": {
    "colab": {
      "provenance": []
    },
    "kernelspec": {
      "name": "python3",
      "display_name": "Python 3"
    },
    "language_info": {
      "name": "python"
    }
  },
  "cells": [
    {
      "cell_type": "markdown",
      "source": [
        "Task 1: Compute the stationary distribution of the Markov chain from Gambler’s ruin with\n",
        "p = 0.4, N = 10. (Do this task with eig.) Do you get more than one stationary distribution?"
      ],
      "metadata": {
        "id": "s7smTn8qrC9y"
      }
    },
    {
      "cell_type": "code",
      "execution_count": null,
      "metadata": {
        "colab": {
          "base_uri": "https://localhost:8080/"
        },
        "id": "RxAbX8-np9og",
        "outputId": "9ffdca98-1fd3-4632-899b-b9330c2af1a9"
      },
      "outputs": [
        {
          "output_type": "stream",
          "name": "stdout",
          "text": [
            "Requirement already satisfied: numpy in /usr/local/lib/python3.10/dist-packages (1.23.5)\n"
          ]
        }
      ],
      "source": [
        "pip install numpy"
      ]
    },
    {
      "cell_type": "code",
      "source": [
        "import numpy as np\n",
        "\n",
        "# Parameters\n",
        "p = 0.4\n",
        "N = 10\n",
        "\n",
        "# Create the transition matrix\n",
        "P = np.zeros((N + 1, N + 1))\n",
        "\n",
        "for i in range(N + 1):\n",
        "    if i == 0:\n",
        "        P[i, i] = 1.0\n",
        "    elif i == N:\n",
        "        P[i, i] = 1.0\n",
        "    else:\n",
        "        P[i, i - 1] = 1 - p\n",
        "        P[i, i + 1] = p\n",
        "\n",
        "# Compute the stationary distribution using eig function\n",
        "eigenvalues, eigenvectors = np.linalg.eig(P.T)\n",
        "stationary_distribution = eigenvectors[:, 0] / eigenvectors[:, 0].sum()\n",
        "\n",
        "print(\"Stationary Distribution:\")\n",
        "print(stationary_distribution)"
      ],
      "metadata": {
        "colab": {
          "base_uri": "https://localhost:8080/"
        },
        "id": "3V5sAWebrmhu",
        "outputId": "ad74f11c-a1f2-4d7c-9200-87777356a997"
      },
      "execution_count": null,
      "outputs": [
        {
          "output_type": "stream",
          "name": "stdout",
          "text": [
            "Stationary Distribution:\n",
            "[1. 0. 0. 0. 0. 0. 0. 0. 0. 0. 0.]\n"
          ]
        }
      ]
    },
    {
      "cell_type": "markdown",
      "source": [
        "\n",
        "Task 2: Consider the adjacency matrix (independent of p) of the random walk and introduce a restart probability. Using it, compute the pagerank for all states of the Markov chain\n",
        "with N = 10 and restart probabilities r = 0.1, 0.01, 10^{−3}, and 10^{−4}."
      ],
      "metadata": {
        "id": "n0iVInzGsPOT"
      }
    },
    {
      "cell_type": "code",
      "source": [
        "N = 10\n",
        "teleportation = np.array([1 / (N + 1)] * (N + 1))  # Initial uniform teleportation vector\n",
        "adjacency_matrix = np.eye(N + 1, k=1) + np.eye(N + 1, k=-1)  # Adjacency matrix for the random walk\n",
        "restart_probabilities = [0.1, 0.01, 1e-3, 1e-4]\n",
        "\n",
        "for r in restart_probabilities:\n",
        "    # Calculate the transition matrix with teleportation\n",
        "    transition_matrix = (1 - r) * adjacency_matrix + r * teleportation.reshape(-1, 1)\n",
        "\n",
        "    # Initialize the PageRank vector\n",
        "    pagerank = np.array([1 / (N + 1)] * (N + 1))\n",
        "\n",
        "    # Iteratively compute PageRank\n",
        "    num_iterations = 100  # Adjust as needed\n",
        "    for _ in range(num_iterations):\n",
        "        pagerank = np.dot(transition_matrix, pagerank)\n",
        "\n",
        "    # Normalize the PageRank vector\n",
        "    pagerank /= np.sum(pagerank)\n",
        "\n",
        "    print(f\"PageRank for r = {r}:\")\n",
        "    print(pagerank)"
      ],
      "metadata": {
        "colab": {
          "base_uri": "https://localhost:8080/"
        },
        "id": "rxvE6tZjsjQB",
        "outputId": "8c1c3bc3-166e-4512-f850-a12caa830e9f"
      },
      "execution_count": null,
      "outputs": [
        {
          "output_type": "stream",
          "name": "stdout",
          "text": [
            "PageRank for r = 0.1:\n",
            "[0.04016369 0.07144823 0.09486042 0.11105192 0.12061151 0.12372846\n",
            " 0.12061151 0.11105192 0.09486042 0.07144823 0.04016369]\n",
            "PageRank for r = 0.01:\n",
            "[0.03506595 0.06569618 0.09429091 0.11244653 0.12782842 0.12934403\n",
            " 0.12782842 0.11244653 0.09429091 0.06569618 0.03506595]\n",
            "PageRank for r = 0.001:\n",
            "[0.03469116 0.06477837 0.09462665 0.11206444 0.12916408 0.12935058\n",
            " 0.12916408 0.11206444 0.09462665 0.06477837 0.03469116]\n",
            "PageRank for r = 0.0001:\n",
            "[0.03465798 0.06467725 0.09467223 0.11201078 0.12931482 0.12933387\n",
            " 0.12931482 0.11201078 0.09467223 0.06467725 0.03465798]\n"
          ]
        }
      ]
    },
    {
      "cell_type": "markdown",
      "source": [
        "Task 3: Compute the pagerank of the ruin state for r = 0.1, N = 1000. How much farther\n",
        "can you go increasing N in your computing environment, while continuing to use eig?"
      ],
      "metadata": {
        "id": "hikkQ7pEtwPj"
      }
    },
    {
      "cell_type": "code",
      "source": [
        "import numpy as np\n",
        "\n",
        "# Parameters\n",
        "N = 1000\n",
        "r = 0.1\n",
        "\n",
        "P = np.zeros((N + 1, N + 1))\n",
        "\n",
        "for i in range(N + 1):\n",
        "    if i == 0:\n",
        "        P[i, i] = 1.0\n",
        "    elif i == N:\n",
        "        P[i, i] = 1.0\n",
        "    else:\n",
        "        P[i, i - 1] = 1 - r\n",
        "        P[i, i + 1] = r\n",
        "\n",
        "# Compute the stationary distribution using eig\n",
        "eigenvalues, eigenvectors = np.linalg.eig(P.T)\n",
        "stationary_distribution = eigenvectors[:, 0] / eigenvectors[:, 0].sum()\n",
        "\n",
        "print(\"PageRank of the ruin state:\")\n",
        "print(stationary_distribution[0])"
      ],
      "metadata": {
        "colab": {
          "base_uri": "https://localhost:8080/"
        },
        "id": "8BnQDubpuG2D",
        "outputId": "b64821b7-570c-4626-a8ca-2a6d9cb52c99"
      },
      "execution_count": null,
      "outputs": [
        {
          "output_type": "stream",
          "name": "stdout",
          "text": [
            "PageRank of the ruin state:\n",
            "(1+0j)\n"
          ]
        }
      ]
    },
    {
      "cell_type": "markdown",
      "source": [
        "\n",
        "Task 4: Implement the power method for a positive stochastic matrix P as a python function, with the inputs indicated below."
      ],
      "metadata": {
        "id": "AUN-jN03t_-y"
      }
    },
    {
      "cell_type": "markdown",
      "source": [],
      "metadata": {
        "id": "xJdP-IUHvnsd"
      }
    },
    {
      "cell_type": "code",
      "source": [
        "import numpy as np\n",
        "\n",
        "def power_method(P, num_iterations=100, tolerance=1e-6):\n",
        "    \"\"\"\n",
        "    Compute the dominant eigenvector (PageRank) of a positive stochastic matrix using the power method.\n",
        "\n",
        "    Parameters:\n",
        "    P (numpy.ndarray): The positive stochastic matrix.\n",
        "    num_iterations (int): The number of iterations for the power method. Default is 100.\n",
        "    tolerance (float): The convergence tolerance. The method stops when the change between iterations is below this threshold. Default is 1e-6.\n",
        "\n",
        "    Returns:\n",
        "    numpy.ndarray: The dominant eigenvector representing the PageRank.\n",
        "    \"\"\"\n",
        "    N = P.shape[0]\n",
        "    x = np.random.rand(N)  # Initial random vector\n",
        "    x /= np.linalg.norm(x)  # Normalize the initial vector\n",
        "\n",
        "    for i in range(num_iterations):\n",
        "        prev_x = x\n",
        "        x = np.dot(P, x)\n",
        "        x /= np.linalg.norm(x)\n",
        "\n",
        "        # Check for convergence\n",
        "        if np.linalg.norm(x - prev_x) < tolerance:\n",
        "            break\n",
        "\n",
        "    return x\n",
        "\n",
        "# for example\n",
        "if __name__ == \"__main__\":\n",
        "    # Create a sample positive stochastic matrix\n",
        "    N = 5\n",
        "    P = np.random.rand(N, N)\n",
        "    P /= P.sum(axis=1, keepdims=True)  # Ensure row sums are 1 to make it stochastic\n",
        "\n",
        "    # Compute the PageRank using the power method\n",
        "    pagerank = power_method(P)\n",
        "    print(\"PageRank:\")\n",
        "    print(pagerank)"
      ],
      "metadata": {
        "colab": {
          "base_uri": "https://localhost:8080/"
        },
        "id": "8KEhVL2CunLp",
        "outputId": "70b94f43-dcd2-4bae-b1ab-414418645597"
      },
      "execution_count": null,
      "outputs": [
        {
          "output_type": "stream",
          "name": "stdout",
          "text": [
            "PageRank:\n",
            "[0.44721369 0.44721347 0.44721355 0.44721363 0.44721363]\n"
          ]
        }
      ]
    }
  ]
}