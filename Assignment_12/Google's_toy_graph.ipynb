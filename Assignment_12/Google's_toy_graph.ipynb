{
  "nbformat": 4,
  "nbformat_minor": 0,
  "metadata": {
    "colab": {
      "provenance": []
    },
    "kernelspec": {
      "name": "python3",
      "display_name": "Python 3"
    },
    "language_info": {
      "name": "python"
    }
  },
  "cells": [
    {
      "cell_type": "markdown",
      "source": [
        "Task: Setting restart probability r = 1 − 0.85, compute the pageranks of all vertices on this\n",
        "graph. Reuse the power method function you wrote in Exercise: Power method for large\n",
        "graphs."
      ],
      "metadata": {
        "id": "JFOWM1USXune"
      }
    },
    {
      "cell_type": "code",
      "execution_count": null,
      "metadata": {
        "id": "jpzGw70hWbQV"
      },
      "outputs": [],
      "source": [
        "import numpy as np\n",
        "import os\n",
        "import urllib\n",
        "import shutil\n",
        "import gzip"
      ]
    },
    {
      "cell_type": "code",
      "source": [
        "# The file is located here:\n",
        "url = \"https://snap.stanford.edu/data/web-Google.txt.gz\""
      ],
      "metadata": {
        "id": "H7Gt7Z8ZYF8j"
      },
      "execution_count": null,
      "outputs": []
    },
    {
      "cell_type": "code",
      "source": [
        "# Download and copy using the code below:\n",
        "f= 'web-Google.txt.gz'\n",
        "\n",
        "if not os.path.exists(f):\n",
        "    r = urllib.request.urlopen(url)\n",
        "    with open(f, 'wb') as fo:\n",
        "        shutil.copyfileobj(r, fo)"
      ],
      "metadata": {
        "id": "RocC4tLHYSbC"
      },
      "execution_count": null,
      "outputs": []
    },
    {
      "cell_type": "code",
      "source": [
        "def load_Gdata(filename):\n",
        "    graph = {}\n",
        "\n",
        "    with gzip.open(filename, 'rt') as file:\n",
        "        for line in file:\n",
        "            if not line.startswith(\"#\"):\n",
        "                source, target = map(int, line.strip().split())\n",
        "                graph.setdefault(source, []).append(target)\n",
        "\n",
        "    return graph\n",
        "\n",
        "graph = load_Gdata(f)"
      ],
      "metadata": {
        "id": "FlcaNEa7Y_ue"
      },
      "execution_count": null,
      "outputs": []
    },
    {
      "cell_type": "code",
      "source": [
        "\n",
        "# Initialize PageRank values for all vertices\n",
        "num_vertices = len(graph)\n",
        "pagerank = np.ones(num_vertices) / num_vertices"
      ],
      "metadata": {
        "id": "tEP7691nZElv"
      },
      "execution_count": null,
      "outputs": []
    },
    {
      "cell_type": "code",
      "source": [
        "import numpy as np\n",
        "\n",
        "def power_iteration(graph, damping_factor=0.85, num_iterations=100):\n",
        "    num_vertices = len(graph)\n",
        "    initial_pagerank = np.ones(num_vertices) / num_vertices\n",
        "\n",
        "    for _ in range(num_iterations):\n",
        "        new_pagerank = np.zeros(num_vertices)\n",
        "\n",
        "        for vertex, neighbors in graph.items():\n",
        "            num_neighbors = len(neighbors)\n",
        "            new_pagerank[neighbors] += damping_factor * initial_pagerank[vertex] / num_neighbors if num_neighbors != 0 else damping_factor * initial_pagerank[vertex] / num_vertices\n",
        "\n",
        "        new_pagerank += (1 - damping_factor) / num_vertices\n",
        "        initial_pagerank = new_pagerank\n",
        "\n",
        "    return initial_pagerank\n",
        "\n",
        "num_vertices = len(graph)\n",
        "pagerank = np.ones(num_vertices) / num_vertices\n",
        "\n",
        "pagerank"
      ],
      "metadata": {
        "id": "HS2qD-sEZgu_"
      },
      "execution_count": null,
      "outputs": []
    }
  ]
}