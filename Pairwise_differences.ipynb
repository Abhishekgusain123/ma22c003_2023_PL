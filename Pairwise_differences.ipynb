{
  "nbformat": 4,
  "nbformat_minor": 0,
  "metadata": {
    "colab": {
      "provenance": [],
      "authorship_tag": "ABX9TyNiLzGVC5esyb9dYqOnU1Ya",
      "include_colab_link": true
    },
    "kernelspec": {
      "name": "python3",
      "display_name": "Python 3"
    },
    "language_info": {
      "name": "python"
    }
  },
  "cells": [
    {
      "cell_type": "markdown",
      "metadata": {
        "id": "view-in-github",
        "colab_type": "text"
      },
      "source": [
        "<a href=\"https://colab.research.google.com/github/Abhishekgusain123/ma22c003_2023_PL/blob/main/Pairwise_differences.ipynb\" target=\"_parent\"><img src=\"https://colab.research.google.com/assets/colab-badge.svg\" alt=\"Open In Colab\"/></a>"
      ]
    },
    {
      "cell_type": "code",
      "execution_count": null,
      "metadata": {
        "id": "uXdlJrMyigAe",
        "colab": {
          "base_uri": "https://localhost:8080/"
        },
        "outputId": "5510b866-6d8f-4fd0-d901-80d413742b8c"
      },
      "outputs": [
        {
          "output_type": "stream",
          "name": "stdout",
          "text": [
            "[[ 0.         -0.03249166  0.14289295  0.1361538   0.79688184]\n",
            " [ 0.03249166  0.          0.17538461  0.16864546  0.82937351]\n",
            " [-0.14289295 -0.17538461  0.         -0.00673916  0.65398889]\n",
            " [-0.1361538  -0.16864546  0.00673916  0.          0.66072805]\n",
            " [-0.79688184 -0.82937351 -0.65398889 -0.66072805  0.        ]]\n"
          ]
        }
      ],
      "source": [
        "import numpy as np\n",
        "\n",
        "x = np.random.rand(5) #generates a 1D NumPy array x of length 5 with random numbers between 0 and 1.\n",
        "D = np.subtract.outer(x, x) #calculates the pairwise differences between elements of x\n",
        "print(D)"
      ]
    },
    {
      "cell_type": "code",
      "source": [
        "import numpy as np\n",
        "\n",
        "A = np.subtract.outer(x, x)\n",
        "print(A)"
      ],
      "metadata": {
        "colab": {
          "base_uri": "https://localhost:8080/"
        },
        "id": "6Vjuec6zpWKk",
        "outputId": "fdd75840-c99c-4de0-e89d-35088eb17c1e"
      },
      "execution_count": null,
      "outputs": [
        {
          "output_type": "stream",
          "name": "stdout",
          "text": [
            "[[ 0.         -0.03249166  0.14289295  0.1361538   0.79688184]\n",
            " [ 0.03249166  0.          0.17538461  0.16864546  0.82937351]\n",
            " [-0.14289295 -0.17538461  0.         -0.00673916  0.65398889]\n",
            " [-0.1361538  -0.16864546  0.00673916  0.          0.66072805]\n",
            " [-0.79688184 -0.82937351 -0.65398889 -0.66072805  0.        ]]\n"
          ]
        }
      ]
    }
  ]
}