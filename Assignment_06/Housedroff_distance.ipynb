{
  "nbformat": 4,
  "nbformat_minor": 0,
  "metadata": {
    "colab": {
      "provenance": []
    },
    "kernelspec": {
      "name": "python3",
      "display_name": "Python 3"
    },
    "language_info": {
      "name": "python"
    }
  },
  "cells": [
    {
      "cell_type": "code",
      "execution_count": 6,
      "metadata": {
        "id": "v7_ymXeuccZY"
      },
      "outputs": [],
      "source": [
        "import numpy as np\n",
        "\n",
        "def euclidean_distance(p1, p2):\n",
        "    # Calculate the Euclidean distance between two points\n",
        "    return np.sqrt(np.sum((p1 - p2) ** 2))\n",
        "\n",
        "def hausdorff_distance(P, Q):\n",
        "    # Initialize variables to store the maximum distances\n",
        "    max_distance_P_to_Q = 0\n",
        "    max_distance_Q_to_P = 0\n",
        "\n",
        "    # Calculate the maximum distance from P to Q\n",
        "    for p in P:\n",
        "        min_distance = float('inf')\n",
        "        for q in Q:\n",
        "            distance = euclidean_distance(p, q)\n",
        "            if distance < min_distance:\n",
        "                min_distance = distance\n",
        "        if min_distance > max_distance_P_to_Q:\n",
        "            max_distance_P_to_Q = min_distance\n",
        "\n",
        "    # Calculate the maximum distance from Q to P\n",
        "    for q in Q:\n",
        "        min_distance = float('inf')\n",
        "        for p in P:\n",
        "            distance = euclidean_distance(q, p)\n",
        "            if distance < min_distance:\n",
        "                min_distance = distance\n",
        "        if min_distance > max_distance_Q_to_P:\n",
        "            max_distance_Q_to_P = min_distance\n",
        "\n",
        "    # Calculate the Hausdorff distance by taking the maximum of the two values\n",
        "    hausdorff_distance = max(max_distance_P_to_Q, max_distance_Q_to_P)\n",
        "\n",
        "    return hausdorff_distance\n",
        "\n",
        "\n"
      ]
    },
    {
      "cell_type": "code",
      "source": [
        "import numpy as np\n",
        "import math\n",
        "# Define two sets of points P and Q\n",
        "P = np.random.rand(5, 2)\n",
        "Q = np.random.rand(7, 2)\n",
        "result = hausdorff_distance(P, Q)\n",
        "print(\"Hausdorff Distance:\", result)"
      ],
      "metadata": {
        "colab": {
          "base_uri": "https://localhost:8080/"
        },
        "id": "c4c6XjQDhCKq",
        "outputId": "f6628045-0db5-403c-f9f6-cfdc3669c129"
      },
      "execution_count": 7,
      "outputs": [
        {
          "output_type": "stream",
          "name": "stdout",
          "text": [
            "Hausdorff Distance: 0.5002294514515804\n"
          ]
        }
      ]
    }
  ]
}