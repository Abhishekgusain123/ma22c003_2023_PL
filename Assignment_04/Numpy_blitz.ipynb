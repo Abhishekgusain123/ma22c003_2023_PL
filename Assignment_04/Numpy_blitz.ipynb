{
  "nbformat": 4,
  "nbformat_minor": 0,
  "metadata": {
    "colab": {
      "provenance": []
    },
    "kernelspec": {
      "name": "python3",
      "display_name": "Python 3"
    },
    "language_info": {
      "name": "python"
    }
  },
  "cells": [
    {
      "cell_type": "code",
      "execution_count": 1,
      "metadata": {
        "colab": {
          "base_uri": "https://localhost:8080/"
        },
        "id": "Azct4I4Az5-2",
        "outputId": "38e3f564-8fbf-490a-87fb-8c626a50356e"
      },
      "outputs": [
        {
          "output_type": "stream",
          "name": "stdout",
          "text": [
            "Collecting gitpython\n",
            "  Downloading GitPython-3.1.34-py3-none-any.whl (188 kB)\n",
            "\u001b[2K     \u001b[90m━━━━━━━━━━━━━━━━━━━━━━━━━━━━━━━━━━━━━━━\u001b[0m \u001b[32m188.6/188.6 kB\u001b[0m \u001b[31m3.4 MB/s\u001b[0m eta \u001b[36m0:00:00\u001b[0m\n",
            "\u001b[?25hCollecting gitdb<5,>=4.0.1 (from gitpython)\n",
            "  Downloading gitdb-4.0.10-py3-none-any.whl (62 kB)\n",
            "\u001b[2K     \u001b[90m━━━━━━━━━━━━━━━━━━━━━━━━━━━━━━━━━━━━━━━━\u001b[0m \u001b[32m62.7/62.7 kB\u001b[0m \u001b[31m5.3 MB/s\u001b[0m eta \u001b[36m0:00:00\u001b[0m\n",
            "\u001b[?25hCollecting smmap<6,>=3.0.1 (from gitdb<5,>=4.0.1->gitpython)\n",
            "  Downloading smmap-5.0.0-py3-none-any.whl (24 kB)\n",
            "Installing collected packages: smmap, gitdb, gitpython\n",
            "Successfully installed gitdb-4.0.10 gitpython-3.1.34 smmap-5.0.0\n"
          ]
        }
      ],
      "source": [
        "!pip install gitpython"
      ]
    },
    {
      "cell_type": "code",
      "source": [
        "import numpy as np\n",
        "import math"
      ],
      "metadata": {
        "id": "cUEhJ1ra0BLt"
      },
      "execution_count": 2,
      "outputs": []
    },
    {
      "cell_type": "code",
      "source": [
        "A = [0.1, 1.3, 0.4, 0.5] # list\n",
        "a = np.array(A) # numpy array\n",
        "type(a), type(A)"
      ],
      "metadata": {
        "colab": {
          "base_uri": "https://localhost:8080/"
        },
        "id": "a8u9MKaf0O1-",
        "outputId": "2320b469-805c-4ca8-df4d-d775453f47a7"
      },
      "execution_count": 3,
      "outputs": [
        {
          "output_type": "execute_result",
          "data": {
            "text/plain": [
              "(numpy.ndarray, list)"
            ]
          },
          "metadata": {},
          "execution_count": 3
        }
      ]
    },
    {
      "cell_type": "code",
      "source": [
        "a.dtype # a's common element type (A.dtype is undefined!)"
      ],
      "metadata": {
        "colab": {
          "base_uri": "https://localhost:8080/"
        },
        "id": "bhvUIJVj0T2n",
        "outputId": "0a6da3ee-5ceb-44f0-cdd4-f6c1148debc4"
      },
      "execution_count": 4,
      "outputs": [
        {
          "output_type": "execute_result",
          "data": {
            "text/plain": [
              "dtype('float64')"
            ]
          },
          "metadata": {},
          "execution_count": 4
        }
      ]
    },
    {
      "cell_type": "code",
      "source": [
        "2*a"
      ],
      "metadata": {
        "colab": {
          "base_uri": "https://localhost:8080/"
        },
        "id": "jtic5C2G0e-k",
        "outputId": "52afcef9-72ac-40f5-af52-b9b1748b8884"
      },
      "execution_count": 5,
      "outputs": [
        {
          "output_type": "execute_result",
          "data": {
            "text/plain": [
              "array([0.2, 2.6, 0.8, 1. ])"
            ]
          },
          "metadata": {},
          "execution_count": 5
        }
      ]
    },
    {
      "cell_type": "code",
      "source": [
        "2*A"
      ],
      "metadata": {
        "colab": {
          "base_uri": "https://localhost:8080/"
        },
        "id": "cZLDwoKD0nep",
        "outputId": "d56cb324-67b5-4d2e-ba98-2a4caae57550"
      },
      "execution_count": 6,
      "outputs": [
        {
          "output_type": "execute_result",
          "data": {
            "text/plain": [
              "[0.1, 1.3, 0.4, 0.5, 0.1, 1.3, 0.4, 0.5]"
            ]
          },
          "metadata": {},
          "execution_count": 6
        }
      ]
    },
    {
      "cell_type": "code",
      "source": [
        "n = 100000\n",
        "x = np.linspace(0, 2*np.pi, n)"
      ],
      "metadata": {
        "id": "rS5xRx6c1VIs"
      },
      "execution_count": 7,
      "outputs": []
    },
    {
      "cell_type": "code",
      "source": [
        "# list comprehension\n",
        "%timeit y = [math.sin(x[i]) * math.exp(-x[i]) for i in range(n)]\n",
        "# use numpy ufuncs\n",
        "%timeit y = np.sin(x) * np.exp(-x)"
      ],
      "metadata": {
        "colab": {
          "base_uri": "https://localhost:8080/"
        },
        "id": "FntFZb1N1iEw",
        "outputId": "117f668e-bf69-4cb1-b1df-87cbcb40eeb8"
      },
      "execution_count": 8,
      "outputs": [
        {
          "output_type": "stream",
          "name": "stdout",
          "text": [
            "54.9 ms ± 1 ms per loop (mean ± std. dev. of 7 runs, 10 loops each)\n",
            "4.7 ms ± 681 µs per loop (mean ± std. dev. of 7 runs, 100 loops each)\n"
          ]
        }
      ]
    },
    {
      "cell_type": "code",
      "source": [
        "def f(v): # apply f to one scalar value v\n",
        "\n",
        "  return math.sin(v) * math.exp(-v)"
      ],
      "metadata": {
        "id": "9ILXoN0H1vhP"
      },
      "execution_count": 9,
      "outputs": []
    },
    {
      "cell_type": "code",
      "source": [
        "vectorizedf = map(f, x) # apply same f to a vector of values x"
      ],
      "metadata": {
        "id": "97SMQrCr16sU"
      },
      "execution_count": 10,
      "outputs": []
    },
    {
      "cell_type": "code",
      "source": [
        "F = np.vectorize(f) # F can be applied to a array x"
      ],
      "metadata": {
        "id": "1W_TvBev17sL"
      },
      "execution_count": 11,
      "outputs": []
    },
    {
      "cell_type": "code",
      "source": [
        "# use map\n",
        "%timeit y = list(map(f, x))\n",
        "# use numpy's vectorize\n",
        "%timeit y = F(x)\n",
        "# use numpy's ufunc\n",
        "%timeit y = np.sin(x) * np.exp(-x)"
      ],
      "metadata": {
        "colab": {
          "base_uri": "https://localhost:8080/"
        },
        "id": "H3rhTCt32JEF",
        "outputId": "eff28e06-2398-4470-ea57-f1c61a104b77"
      },
      "execution_count": 12,
      "outputs": [
        {
          "output_type": "stream",
          "name": "stdout",
          "text": [
            "56.8 ms ± 21.2 ms per loop (mean ± std. dev. of 7 runs, 10 loops each)\n",
            "37.3 ms ± 863 µs per loop (mean ± std. dev. of 7 runs, 10 loops each)\n",
            "2.54 ms ± 36.3 µs per loop (mean ± std. dev. of 7 runs, 100 loops each)\n"
          ]
        }
      ]
    },
    {
      "cell_type": "code",
      "source": [
        "%timeit for x in range(1000000): x**3\n",
        "%timeit for x in np.arange(1000000): x**3"
      ],
      "metadata": {
        "colab": {
          "base_uri": "https://localhost:8080/"
        },
        "id": "QC58jwZ42W3b",
        "outputId": "84142994-f3d1-4f4c-9ef9-3f13c8d03512"
      },
      "execution_count": 13,
      "outputs": [
        {
          "output_type": "stream",
          "name": "stdout",
          "text": [
            "520 ms ± 113 ms per loop (mean ± std. dev. of 7 runs, 1 loop each)\n",
            "151 ms ± 45.1 ms per loop (mean ± std. dev. of 7 runs, 10 loops each)\n"
          ]
        }
      ]
    },
    {
      "cell_type": "code",
      "source": [
        "a = np.random.randint(0,9,5)\n",
        "a"
      ],
      "metadata": {
        "colab": {
          "base_uri": "https://localhost:8080/"
        },
        "id": "jJG0Xaaa2kqc",
        "outputId": "02a37c5d-5ae8-41a6-ff6b-00a8eb309370"
      },
      "execution_count": 14,
      "outputs": [
        {
          "output_type": "execute_result",
          "data": {
            "text/plain": [
              "array([5, 7, 5, 5, 2])"
            ]
          },
          "metadata": {},
          "execution_count": 14
        }
      ]
    },
    {
      "cell_type": "code",
      "source": [
        "a[::]"
      ],
      "metadata": {
        "colab": {
          "base_uri": "https://localhost:8080/"
        },
        "id": "3CtBQEh02yj9",
        "outputId": "d7e7d7dd-cbb6-4504-a3e6-d64c114fa37d"
      },
      "execution_count": 15,
      "outputs": [
        {
          "output_type": "execute_result",
          "data": {
            "text/plain": [
              "array([5, 7, 5, 5, 2])"
            ]
          },
          "metadata": {},
          "execution_count": 15
        }
      ]
    },
    {
      "cell_type": "code",
      "source": [
        "a[-3:]"
      ],
      "metadata": {
        "colab": {
          "base_uri": "https://localhost:8080/"
        },
        "id": "zdKfExxK21b6",
        "outputId": "9ea6f506-b2ae-494c-e0f9-c993a9d1053b"
      },
      "execution_count": 16,
      "outputs": [
        {
          "output_type": "execute_result",
          "data": {
            "text/plain": [
              "array([5, 5, 2])"
            ]
          },
          "metadata": {},
          "execution_count": 16
        }
      ]
    },
    {
      "cell_type": "code",
      "source": [
        "a[-1], a[len(a)-1]"
      ],
      "metadata": {
        "colab": {
          "base_uri": "https://localhost:8080/"
        },
        "id": "6TPPaMRi3CfX",
        "outputId": "ace16f51-a70a-4b93-b295-276ddde90798"
      },
      "execution_count": 17,
      "outputs": [
        {
          "output_type": "execute_result",
          "data": {
            "text/plain": [
              "(2, 2)"
            ]
          },
          "metadata": {},
          "execution_count": 17
        }
      ]
    },
    {
      "cell_type": "code",
      "source": [
        "a[-4:-1:2]"
      ],
      "metadata": {
        "colab": {
          "base_uri": "https://localhost:8080/"
        },
        "id": "5pkY7wlb3Ds0",
        "outputId": "58c6dbf4-b4cc-4be9-cd40-416ded6d1be4"
      },
      "execution_count": 18,
      "outputs": [
        {
          "output_type": "execute_result",
          "data": {
            "text/plain": [
              "array([7, 5])"
            ]
          },
          "metadata": {},
          "execution_count": 18
        }
      ]
    },
    {
      "cell_type": "code",
      "source": [
        "slice = range(-4,-1,2) # Think of b:e:s specification as a range.\n",
        "a[-4:-1:2], a[slice] # In older versions, a[slice] may not work\n",
        "# but will work with slice=arange(-4,-1,2)."
      ],
      "metadata": {
        "colab": {
          "base_uri": "https://localhost:8080/"
        },
        "id": "oizd1gyz3ITu",
        "outputId": "4c78d257-3fd3-4a08-f9bc-ded8a9f98179"
      },
      "execution_count": 19,
      "outputs": [
        {
          "output_type": "execute_result",
          "data": {
            "text/plain": [
              "(array([7, 5]), array([7, 5]))"
            ]
          },
          "metadata": {},
          "execution_count": 19
        }
      ]
    },
    {
      "cell_type": "code",
      "source": [
        "a = np.array([1,2,3])\n",
        "b = np.array([3,4,5,6])"
      ],
      "metadata": {
        "id": "pluNQ8rM3nUW"
      },
      "execution_count": 20,
      "outputs": []
    },
    {
      "cell_type": "code",
      "source": [
        "a = b\n",
        "a[0] = 1\n",
        "a"
      ],
      "metadata": {
        "colab": {
          "base_uri": "https://localhost:8080/"
        },
        "id": "3-CYcCzQ3sGV",
        "outputId": "705fe52e-ce75-4ebf-9137-728e05d3f615"
      },
      "execution_count": 21,
      "outputs": [
        {
          "output_type": "execute_result",
          "data": {
            "text/plain": [
              "array([1, 4, 5, 6])"
            ]
          },
          "metadata": {},
          "execution_count": 21
        }
      ]
    },
    {
      "cell_type": "code",
      "source": [
        "a = np.array([1,2,3]) # This is Object1 and \"a\" is a name for it.\n",
        "b = np.array([3,4,5,6]) # This is Object2 and \"b\" is a name for it."
      ],
      "metadata": {
        "id": "w2TSGlnu38n1"
      },
      "execution_count": 22,
      "outputs": []
    },
    {
      "cell_type": "code",
      "source": [
        "id(a), id(b)"
      ],
      "metadata": {
        "colab": {
          "base_uri": "https://localhost:8080/"
        },
        "id": "ehtjRE0W4CFD",
        "outputId": "ddb68042-414a-423c-9736-74cd3e6c606f"
      },
      "execution_count": 23,
      "outputs": [
        {
          "output_type": "execute_result",
          "data": {
            "text/plain": [
              "(136778096618608, 136778096618992)"
            ]
          },
          "metadata": {},
          "execution_count": 23
        }
      ]
    },
    {
      "cell_type": "code",
      "source": [
        "a = b # a is no longer a name for Object1, it is now a name for Object2."
      ],
      "metadata": {
        "id": "RRD4tyHn4L1J"
      },
      "execution_count": 24,
      "outputs": []
    },
    {
      "cell_type": "code",
      "source": [
        "id(a), id(b)"
      ],
      "metadata": {
        "colab": {
          "base_uri": "https://localhost:8080/"
        },
        "id": "GPEJVwuB4Rk-",
        "outputId": "f1e3196f-4d94-4fa6-e6f7-2966c1da8731"
      },
      "execution_count": 25,
      "outputs": [
        {
          "output_type": "execute_result",
          "data": {
            "text/plain": [
              "(136778096618992, 136778096618992)"
            ]
          },
          "metadata": {},
          "execution_count": 25
        }
      ]
    },
    {
      "cell_type": "code",
      "source": [
        "a = np.array([1,2,3]) # Object1\n",
        "b = np.array([3,4,5,6]) # Object2\n",
        "a = b.copy() # Copies Object2, and binds a to the copy\n",
        "a[0] = 2 # Only the copied (new) object is changed"
      ],
      "metadata": {
        "id": "4OZGMEtK4Yrw"
      },
      "execution_count": 27,
      "outputs": []
    },
    {
      "cell_type": "code",
      "source": [
        "a, b"
      ],
      "metadata": {
        "colab": {
          "base_uri": "https://localhost:8080/"
        },
        "id": "HA2uKrQH5Dzi",
        "outputId": "978a6814-175f-4b10-ed97-1445d2ca1369"
      },
      "execution_count": 28,
      "outputs": [
        {
          "output_type": "execute_result",
          "data": {
            "text/plain": [
              "(array([2, 4, 5, 6]), array([3, 4, 5, 6]))"
            ]
          },
          "metadata": {},
          "execution_count": 28
        }
      ]
    },
    {
      "cell_type": "code",
      "source": [
        "Amat = [[1,2],\n",
        "[3,4]]\n",
        "Amat"
      ],
      "metadata": {
        "colab": {
          "base_uri": "https://localhost:8080/"
        },
        "id": "_4OwZSvs5JNU",
        "outputId": "ea68b13f-87a2-4f20-8acb-46b48febdf1d"
      },
      "execution_count": 29,
      "outputs": [
        {
          "output_type": "execute_result",
          "data": {
            "text/plain": [
              "[[1, 2], [3, 4]]"
            ]
          },
          "metadata": {},
          "execution_count": 29
        }
      ]
    },
    {
      "cell_type": "code",
      "source": [
        "amat = np.array(Amat)\n",
        "amat"
      ],
      "metadata": {
        "colab": {
          "base_uri": "https://localhost:8080/"
        },
        "id": "6ZRgIQpO5PPk",
        "outputId": "1a6371b7-6a9a-4ad5-c05a-0a283637085c"
      },
      "execution_count": 30,
      "outputs": [
        {
          "output_type": "execute_result",
          "data": {
            "text/plain": [
              "array([[1, 2],\n",
              "       [3, 4]])"
            ]
          },
          "metadata": {},
          "execution_count": 30
        }
      ]
    },
    {
      "cell_type": "code",
      "source": [
        "type(A), type(a)"
      ],
      "metadata": {
        "colab": {
          "base_uri": "https://localhost:8080/"
        },
        "id": "zgGEvpcp5U8b",
        "outputId": "5949abc6-8ada-4363-ebec-0ad16736c62d"
      },
      "execution_count": 31,
      "outputs": [
        {
          "output_type": "execute_result",
          "data": {
            "text/plain": [
              "(list, numpy.ndarray)"
            ]
          },
          "metadata": {},
          "execution_count": 31
        }
      ]
    },
    {
      "cell_type": "code",
      "source": [
        "2*Amat"
      ],
      "metadata": {
        "colab": {
          "base_uri": "https://localhost:8080/"
        },
        "id": "-E6zcO_z5ZQd",
        "outputId": "f1446e1b-eb66-4265-f1ee-ccf066090924"
      },
      "execution_count": 32,
      "outputs": [
        {
          "output_type": "execute_result",
          "data": {
            "text/plain": [
              "[[1, 2], [3, 4], [1, 2], [3, 4]]"
            ]
          },
          "metadata": {},
          "execution_count": 32
        }
      ]
    },
    {
      "cell_type": "code",
      "source": [
        "2*amat"
      ],
      "metadata": {
        "colab": {
          "base_uri": "https://localhost:8080/"
        },
        "id": "T58-275z5dax",
        "outputId": "79741c4c-4143-4783-e6e2-3932e9f58864"
      },
      "execution_count": 33,
      "outputs": [
        {
          "output_type": "execute_result",
          "data": {
            "text/plain": [
              "array([[2, 4],\n",
              "       [6, 8]])"
            ]
          },
          "metadata": {},
          "execution_count": 33
        }
      ]
    },
    {
      "cell_type": "code",
      "source": [
        "amat"
      ],
      "metadata": {
        "colab": {
          "base_uri": "https://localhost:8080/"
        },
        "id": "wEMW-wJU5hod",
        "outputId": "f2b07c1d-15e2-4a7c-ba85-82e670bfb98c"
      },
      "execution_count": 34,
      "outputs": [
        {
          "output_type": "execute_result",
          "data": {
            "text/plain": [
              "array([[1, 2],\n",
              "       [3, 4]])"
            ]
          },
          "metadata": {},
          "execution_count": 34
        }
      ]
    },
    {
      "cell_type": "code",
      "source": [
        "amat * amat"
      ],
      "metadata": {
        "colab": {
          "base_uri": "https://localhost:8080/"
        },
        "id": "9yHdZAg25mSE",
        "outputId": "8e00cebb-0a63-4127-a49a-b5850c033365"
      },
      "execution_count": 35,
      "outputs": [
        {
          "output_type": "execute_result",
          "data": {
            "text/plain": [
              "array([[ 1,  4],\n",
              "       [ 9, 16]])"
            ]
          },
          "metadata": {},
          "execution_count": 35
        }
      ]
    },
    {
      "cell_type": "code",
      "source": [
        "import sys\n",
        "print(sys.version) # check if you have version >= 3.5 before trying @"
      ],
      "metadata": {
        "colab": {
          "base_uri": "https://localhost:8080/"
        },
        "id": "vmq9F_nt5r9m",
        "outputId": "0cf58256-18df-453b-a603-4a30cfaa68b9"
      },
      "execution_count": 36,
      "outputs": [
        {
          "output_type": "stream",
          "name": "stdout",
          "text": [
            "3.10.12 (main, Jun 11 2023, 05:26:28) [GCC 11.4.0]\n"
          ]
        }
      ]
    },
    {
      "cell_type": "code",
      "source": [
        "amat @ amat"
      ],
      "metadata": {
        "colab": {
          "base_uri": "https://localhost:8080/"
        },
        "id": "MlIiw52Y518u",
        "outputId": "83bc0d22-57a1-482e-e44f-1a263a48949a"
      },
      "execution_count": 37,
      "outputs": [
        {
          "output_type": "execute_result",
          "data": {
            "text/plain": [
              "array([[ 7, 10],\n",
              "       [15, 22]])"
            ]
          },
          "metadata": {},
          "execution_count": 37
        }
      ]
    },
    {
      "cell_type": "code",
      "source": [
        "np.dot(amat, amat) # dot(A,B) = matrix A multiplied by matrix B"
      ],
      "metadata": {
        "colab": {
          "base_uri": "https://localhost:8080/"
        },
        "id": "48gpMZUd5-11",
        "outputId": "aa72fb01-4561-48f9-9821-24db6c50f8f7"
      },
      "execution_count": 38,
      "outputs": [
        {
          "output_type": "execute_result",
          "data": {
            "text/plain": [
              "array([[ 7, 10],\n",
              "       [15, 22]])"
            ]
          },
          "metadata": {},
          "execution_count": 38
        }
      ]
    },
    {
      "cell_type": "code",
      "source": [
        "amat.dot(amat)"
      ],
      "metadata": {
        "colab": {
          "base_uri": "https://localhost:8080/"
        },
        "id": "sSE-3igu6a40",
        "outputId": "b8818ba6-328e-4191-f5e7-af7c03358261"
      },
      "execution_count": 39,
      "outputs": [
        {
          "output_type": "execute_result",
          "data": {
            "text/plain": [
              "array([[ 7, 10],\n",
              "       [15, 22]])"
            ]
          },
          "metadata": {},
          "execution_count": 39
        }
      ]
    },
    {
      "cell_type": "code",
      "source": [
        "amat**2 # not equal to matrix power !!"
      ],
      "metadata": {
        "colab": {
          "base_uri": "https://localhost:8080/"
        },
        "id": "erNKGfiP6f0A",
        "outputId": "5155562e-7756-44ad-aaf8-d56d0b88e425"
      },
      "execution_count": 40,
      "outputs": [
        {
          "output_type": "execute_result",
          "data": {
            "text/plain": [
              "array([[ 1,  4],\n",
              "       [ 9, 16]])"
            ]
          },
          "metadata": {},
          "execution_count": 40
        }
      ]
    },
    {
      "cell_type": "code",
      "source": [
        "np.linalg.matrix_power(amat, 2)"
      ],
      "metadata": {
        "colab": {
          "base_uri": "https://localhost:8080/"
        },
        "id": "Gs9e9cZI6ndt",
        "outputId": "52a3f1d3-63ac-45ba-c043-6d114e10d61a"
      },
      "execution_count": 41,
      "outputs": [
        {
          "output_type": "execute_result",
          "data": {
            "text/plain": [
              "array([[ 7, 10],\n",
              "       [15, 22]])"
            ]
          },
          "metadata": {},
          "execution_count": 41
        }
      ]
    },
    {
      "cell_type": "code",
      "source": [
        "A = np.array([[7, 8, 5, 1], [2, 5, 5, 2], [9, 6, 8, 9]])\n",
        "A"
      ],
      "metadata": {
        "colab": {
          "base_uri": "https://localhost:8080/"
        },
        "id": "pcCvPGss6sV2",
        "outputId": "441236c9-c235-46e2-b321-0261c9193650"
      },
      "execution_count": 42,
      "outputs": [
        {
          "output_type": "execute_result",
          "data": {
            "text/plain": [
              "array([[7, 8, 5, 1],\n",
              "       [2, 5, 5, 2],\n",
              "       [9, 6, 8, 9]])"
            ]
          },
          "metadata": {},
          "execution_count": 42
        }
      ]
    },
    {
      "cell_type": "code",
      "source": [
        "A[1, :], A[:, 2]"
      ],
      "metadata": {
        "colab": {
          "base_uri": "https://localhost:8080/"
        },
        "id": "fyKKFr2D6xOw",
        "outputId": "fe5a8f8e-33dc-4cf1-a281-ebc92696c1e3"
      },
      "execution_count": 43,
      "outputs": [
        {
          "output_type": "execute_result",
          "data": {
            "text/plain": [
              "(array([2, 5, 5, 2]), array([5, 5, 8]))"
            ]
          },
          "metadata": {},
          "execution_count": 43
        }
      ]
    },
    {
      "cell_type": "code",
      "source": [
        "A[:3:2, :3]"
      ],
      "metadata": {
        "colab": {
          "base_uri": "https://localhost:8080/"
        },
        "id": "DDvRk27B610h",
        "outputId": "da0e7b4b-16f2-4421-84e8-d7ebdaaa9a84"
      },
      "execution_count": 44,
      "outputs": [
        {
          "output_type": "execute_result",
          "data": {
            "text/plain": [
              "array([[7, 8, 5],\n",
              "       [9, 6, 8]])"
            ]
          },
          "metadata": {},
          "execution_count": 44
        }
      ]
    },
    {
      "cell_type": "code",
      "source": [
        "M = np.array([[7, 8, 5, 1], [2, 5, 5, 2], [9, 6, 8, 9]])\n",
        "M"
      ],
      "metadata": {
        "colab": {
          "base_uri": "https://localhost:8080/"
        },
        "id": "uAgBmflB67Cj",
        "outputId": "24bcbf9b-75c4-46e0-881a-91693063f8d8"
      },
      "execution_count": 45,
      "outputs": [
        {
          "output_type": "execute_result",
          "data": {
            "text/plain": [
              "array([[7, 8, 5, 1],\n",
              "       [2, 5, 5, 2],\n",
              "       [9, 6, 8, 9]])"
            ]
          },
          "metadata": {},
          "execution_count": 45
        }
      ]
    },
    {
      "cell_type": "code",
      "source": [
        "M.reshape(2, 6) # Just a different view of the same data"
      ],
      "metadata": {
        "colab": {
          "base_uri": "https://localhost:8080/"
        },
        "id": "Lh-3IFrV7BCr",
        "outputId": "5e59d367-c8ef-4a15-857d-9c25a87ce81f"
      },
      "execution_count": 46,
      "outputs": [
        {
          "output_type": "execute_result",
          "data": {
            "text/plain": [
              "array([[7, 8, 5, 1, 2, 5],\n",
              "       [5, 2, 9, 6, 8, 9]])"
            ]
          },
          "metadata": {},
          "execution_count": 46
        }
      ]
    },
    {
      "cell_type": "code",
      "source": [
        "M.ravel() # The 1D data of M in row-major ordering"
      ],
      "metadata": {
        "colab": {
          "base_uri": "https://localhost:8080/"
        },
        "id": "TTHfRmoI7InL",
        "outputId": "52f8da79-1f24-49cd-d667-a7e1a7211372"
      },
      "execution_count": 47,
      "outputs": [
        {
          "output_type": "execute_result",
          "data": {
            "text/plain": [
              "array([7, 8, 5, 1, 2, 5, 5, 2, 9, 6, 8, 9])"
            ]
          },
          "metadata": {},
          "execution_count": 47
        }
      ]
    },
    {
      "cell_type": "code",
      "source": [
        "A = np.array(M, order='F')\n",
        "A"
      ],
      "metadata": {
        "colab": {
          "base_uri": "https://localhost:8080/"
        },
        "id": "j4wCieAY7Nrg",
        "outputId": "cfc27f58-b03b-4efb-b7bc-93c7a5f8d603"
      },
      "execution_count": 48,
      "outputs": [
        {
          "output_type": "execute_result",
          "data": {
            "text/plain": [
              "array([[7, 8, 5, 1],\n",
              "       [2, 5, 5, 2],\n",
              "       [9, 6, 8, 9]])"
            ]
          },
          "metadata": {},
          "execution_count": 48
        }
      ]
    },
    {
      "cell_type": "code",
      "source": [
        "A.ravel(order='A') # A's internal ordering is Fortran style"
      ],
      "metadata": {
        "colab": {
          "base_uri": "https://localhost:8080/"
        },
        "id": "KUEZQjDe7TKX",
        "outputId": "d114fdb5-6bfa-415e-b2af-6a51815c75d7"
      },
      "execution_count": 49,
      "outputs": [
        {
          "output_type": "execute_result",
          "data": {
            "text/plain": [
              "array([7, 2, 9, 8, 5, 6, 5, 5, 8, 1, 2, 9])"
            ]
          },
          "metadata": {},
          "execution_count": 49
        }
      ]
    },
    {
      "cell_type": "code",
      "source": [
        "M.ravel(order='A') # M's internal ordering is default C-style"
      ],
      "metadata": {
        "colab": {
          "base_uri": "https://localhost:8080/"
        },
        "id": "nXffbR6s7YeE",
        "outputId": "b7fc84ab-2cde-47fd-faca-efbc058b8cf7"
      },
      "execution_count": 50,
      "outputs": [
        {
          "output_type": "execute_result",
          "data": {
            "text/plain": [
              "array([7, 8, 5, 1, 2, 5, 5, 2, 9, 6, 8, 9])"
            ]
          },
          "metadata": {},
          "execution_count": 50
        }
      ]
    },
    {
      "cell_type": "code",
      "source": [
        "N = np.arange(25).reshape(5,5)\n",
        "N"
      ],
      "metadata": {
        "colab": {
          "base_uri": "https://localhost:8080/"
        },
        "id": "wF6mw_Nl7dXW",
        "outputId": "cbdff264-b6f1-4eae-fc73-39d23866c841"
      },
      "execution_count": 51,
      "outputs": [
        {
          "output_type": "execute_result",
          "data": {
            "text/plain": [
              "array([[ 0,  1,  2,  3,  4],\n",
              "       [ 5,  6,  7,  8,  9],\n",
              "       [10, 11, 12, 13, 14],\n",
              "       [15, 16, 17, 18, 19],\n",
              "       [20, 21, 22, 23, 24]])"
            ]
          },
          "metadata": {},
          "execution_count": 51
        }
      ]
    },
    {
      "cell_type": "code",
      "source": [
        "mask = (N>7) & (N<18)\n",
        "mask"
      ],
      "metadata": {
        "colab": {
          "base_uri": "https://localhost:8080/"
        },
        "id": "HNZYWnrT7i3Q",
        "outputId": "8566fd3b-cf87-47c8-9878-fda6118982c5"
      },
      "execution_count": 52,
      "outputs": [
        {
          "output_type": "execute_result",
          "data": {
            "text/plain": [
              "array([[False, False, False, False, False],\n",
              "       [False, False, False,  True,  True],\n",
              "       [ True,  True,  True,  True,  True],\n",
              "       [ True,  True,  True, False, False],\n",
              "       [False, False, False, False, False]])"
            ]
          },
          "metadata": {},
          "execution_count": 52
        }
      ]
    },
    {
      "cell_type": "code",
      "source": [
        "N[mask]"
      ],
      "metadata": {
        "colab": {
          "base_uri": "https://localhost:8080/"
        },
        "id": "LvOn_9o37nLO",
        "outputId": "75b5a901-374a-43e9-faa2-a5283aa0a6d5"
      },
      "execution_count": 53,
      "outputs": [
        {
          "output_type": "execute_result",
          "data": {
            "text/plain": [
              "array([ 8,  9, 10, 11, 12, 13, 14, 15, 16, 17])"
            ]
          },
          "metadata": {},
          "execution_count": 53
        }
      ]
    },
    {
      "cell_type": "code",
      "source": [
        "i, j = np.where(mask) # Returns i and j indices where mask[i,j] is True.\n",
        "i, j # 1st True value of mask is at i[0],j[0],\n",
        "# 2nd True value of mask is at i[1],j[1], etc."
      ],
      "metadata": {
        "colab": {
          "base_uri": "https://localhost:8080/"
        },
        "id": "VJKQWxOD7t3O",
        "outputId": "9e4b1404-da7f-4e64-97f4-cb65a3bda490"
      },
      "execution_count": 54,
      "outputs": [
        {
          "output_type": "execute_result",
          "data": {
            "text/plain": [
              "(array([1, 1, 2, 2, 2, 2, 2, 3, 3, 3]), array([3, 4, 0, 1, 2, 3, 4, 0, 1, 2]))"
            ]
          },
          "metadata": {},
          "execution_count": 54
        }
      ]
    },
    {
      "cell_type": "code",
      "source": [
        "data = np.random.randint(low=0, high=10, size=30) # 1D array"
      ],
      "metadata": {
        "id": "yMULc7DP70PA"
      },
      "execution_count": 55,
      "outputs": []
    },
    {
      "cell_type": "code",
      "source": [
        "T2 = np.reshape(data, (6, 5)) # 2D array\n",
        "T2"
      ],
      "metadata": {
        "colab": {
          "base_uri": "https://localhost:8080/"
        },
        "id": "AcE2UQTC76uD",
        "outputId": "3c31fce4-d228-4f1d-944f-e7194b5565b4"
      },
      "execution_count": 56,
      "outputs": [
        {
          "output_type": "execute_result",
          "data": {
            "text/plain": [
              "array([[1, 9, 7, 3, 6],\n",
              "       [4, 4, 3, 2, 6],\n",
              "       [4, 3, 5, 4, 6],\n",
              "       [9, 0, 8, 3, 2],\n",
              "       [0, 2, 5, 4, 2],\n",
              "       [6, 7, 0, 6, 6]])"
            ]
          },
          "metadata": {},
          "execution_count": 56
        }
      ]
    },
    {
      "cell_type": "code",
      "source": [
        "T3 = np.reshape(data, (2, 3, 5)) # 3D array\n",
        "T3"
      ],
      "metadata": {
        "colab": {
          "base_uri": "https://localhost:8080/"
        },
        "id": "2xMH6Y8I7_uQ",
        "outputId": "3d45492e-69b3-4ab4-ae40-68dc650994bf"
      },
      "execution_count": 57,
      "outputs": [
        {
          "output_type": "execute_result",
          "data": {
            "text/plain": [
              "array([[[1, 9, 7, 3, 6],\n",
              "        [4, 4, 3, 2, 6],\n",
              "        [4, 3, 5, 4, 6]],\n",
              "\n",
              "       [[9, 0, 8, 3, 2],\n",
              "        [0, 2, 5, 4, 2],\n",
              "        [6, 7, 0, 6, 6]]])"
            ]
          },
          "metadata": {},
          "execution_count": 57
        }
      ]
    },
    {
      "cell_type": "code",
      "source": [
        "print('T3 is a ', T3.ndim, 'dimensional array of shape ', T3.shape)\n",
        "print('T2 is a ', T2.ndim, 'dimensional array of shape ', T2.shape)\n",
        "print('data is a ', data.ndim, 'dimensional array of shape ', data.shape)"
      ],
      "metadata": {
        "colab": {
          "base_uri": "https://localhost:8080/"
        },
        "id": "IAGSzE8F8Hqt",
        "outputId": "9eda42af-56d7-405a-f764-c7b16555a52b"
      },
      "execution_count": 58,
      "outputs": [
        {
          "output_type": "stream",
          "name": "stdout",
          "text": [
            "T3 is a  3 dimensional array of shape  (2, 3, 5)\n",
            "T2 is a  2 dimensional array of shape  (6, 5)\n",
            "data is a  1 dimensional array of shape  (30,)\n"
          ]
        }
      ]
    }
  ]
}