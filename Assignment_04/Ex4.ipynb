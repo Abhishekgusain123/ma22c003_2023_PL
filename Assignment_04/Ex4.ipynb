{
  "nbformat": 4,
  "nbformat_minor": 0,
  "metadata": {
    "colab": {
      "provenance": []
    },
    "kernelspec": {
      "name": "python3",
      "display_name": "Python 3"
    },
    "language_info": {
      "name": "python"
    }
  },
  "cells": [
    {
      "cell_type": "code",
      "execution_count": 4,
      "metadata": {
        "id": "xMoa5uYifhOH"
      },
      "outputs": [],
      "source": [
        "def twice(w):\n",
        "  w *=2\n",
        "  print('inside function twice.',w)"
      ]
    },
    {
      "cell_type": "code",
      "source": [
        "v = [1, 2, 3]\n",
        "print('outside the function-',twice(v))\n",
        "print('print v to see weather changes are permanent or temparory.',v)"
      ],
      "metadata": {
        "colab": {
          "base_uri": "https://localhost:8080/"
        },
        "id": "0J7WmajngMiw",
        "outputId": "2a53ecfe-9f7c-4cc4-b76d-19d2c3d684f2"
      },
      "execution_count": 5,
      "outputs": [
        {
          "output_type": "stream",
          "name": "stdout",
          "text": [
            "inside function twice. [1, 2, 3, 1, 2, 3]\n",
            "outside the function- None\n",
            "print v to see wheather changes are permanent or temparory. [1, 2, 3, 1, 2, 3]\n"
          ]
        }
      ]
    },
    {
      "cell_type": "markdown",
      "source": [
        "**Using Numpy**"
      ],
      "metadata": {
        "id": "RDHueOOphkDY"
      }
    },
    {
      "cell_type": "code",
      "source": [
        "import numpy as np\n",
        "v = np.array(v)"
      ],
      "metadata": {
        "id": "ORQa-cftguDy"
      },
      "execution_count": 6,
      "outputs": []
    },
    {
      "cell_type": "code",
      "source": [
        "print('outside the function-',twice(v))\n",
        "print('print v to see weather changes are permanent or temparory.',v)"
      ],
      "metadata": {
        "colab": {
          "base_uri": "https://localhost:8080/"
        },
        "id": "QI_gFVd1gvXZ",
        "outputId": "90c2ad2d-c22c-4566-a0cb-6c0f3d737cde"
      },
      "execution_count": 8,
      "outputs": [
        {
          "output_type": "stream",
          "name": "stdout",
          "text": [
            "inside function twice. [ 4  8 12  4  8 12]\n",
            "outside the function- None\n",
            "print v to see weather changes we made were permanent or temparory. [ 4  8 12  4  8 12]\n"
          ]
        }
      ]
    },
    {
      "cell_type": "markdown",
      "source": [
        "**Using String**"
      ],
      "metadata": {
        "id": "-O40dM9UhfEV"
      }
    },
    {
      "cell_type": "code",
      "source": [
        "v = 'python'\n",
        "print('outside the function-',twice(v))\n",
        "print('print v to see weather changes are permanent or temparory-',v)"
      ],
      "metadata": {
        "colab": {
          "base_uri": "https://localhost:8080/"
        },
        "id": "8c0rlXRLhDy0",
        "outputId": "d70345a0-a20f-469b-f006-9b28ca15af22"
      },
      "execution_count": 10,
      "outputs": [
        {
          "output_type": "stream",
          "name": "stdout",
          "text": [
            "inside function twice. pythonpython\n",
            "outside the function- None\n",
            "print v to see weather changes are permanent or temparory- python\n"
          ]
        }
      ]
    },
    {
      "cell_type": "code",
      "source": [],
      "metadata": {
        "id": "lF2njbsnhd7x"
      },
      "execution_count": null,
      "outputs": []
    }
  ]
}